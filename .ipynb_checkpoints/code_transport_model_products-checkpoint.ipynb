{
 "cells": [
  {
   "cell_type": "code",
   "execution_count": 2,
   "metadata": {},
   "outputs": [],
   "source": [
    "import gurobipy as gp"
   ]
  },
  {
   "cell_type": "code",
   "execution_count": 3,
   "metadata": {},
   "outputs": [],
   "source": [
    "#inicialização de variáveis\n",
    "fabricas = [\"Anastácio\", \"Nova Andradina\", \"Dourados\", \"Campo Grande\",  \"Caxias do Sul\", \"Itapetininga - SP\", \"Naviraí\" ,\"Brasília\", \"Manaus\", \"Ji-Paraná\", \"Itapetininga - BA\", \"São Gonçado dos Campos\",\"Feira de Santana\", \"Araguaína - TO\"]\n",
    "centros_distr = [\"Alta Floresta - MT\",\"Diamantino - MT\",\"Araputanga - MT\",\"Vilhena - RO\",\"Pimenta Bueno - RO\",\"Porto Velho\",\"São Miguel do Guaporé - RO\",\"Goiania - GO\",\"Ponta Porã\",\"Anhenguera - SP 1\",\"Osasco - SP\",\"Aparecida de Goiania \",\"Brasília - DF\",\"Maceió - AL\",\"Cascavel - CE\",\"Caucaia - CE\",\"Itaitinga - CE\",\"Simões Filho - BA\",\"Confresa - MT\",\"Barra do Garças - MT\",\"Pedra Preta - MT\",\"Juara - MT\",\"POontes e Lacerda - MT\",\"Anhenguera - SP 2\",\"Cajamar - SP\"]\n",
    "\n",
    "#Matriz de Distancias e Custos\n",
    "mat_custos = [[240,236,245,518,983,558,617,322,514,843,285,475,346,789,992,240,532,232,928,946,435,271,226,340,582],\n",
    "[491,329,565,486,854,848,219,529,930,750,700,504,725,724,507,779,478,927,633,341,305,845,595,420,206],\n",
    "[895,614,956,383,259,371,927,474,336,306,567,726,635,945,231,487,624,834,470,424,411,647,742,813,525],\n",
    "[657,759,749,512,464,498,516,793,332,309,986,260,625,271,709,435,1000,926,815,458,872,755,731,577,841],\n",
    "[639,590,776,617,242,983,899,766,409,371,884,216,912,337,305,610,204,706,522,699,407,280,302,231,585],\n",
    "[658,230,989,741,483,839,613,258,975,866,745,806,976,729,902,403,468,661,471,387,714,861,918,875,865],\n",
    "[870,498,308,843,431,248,960,321,646,705,580,646,256,354,322,380,638,292,265,555,676,918,975,787,610],\n",
    "[347,238,233,756,641,812,834,796,466,281,266,377,661,212,947,719,977,805,836,725,877,541,766,400,218],\n",
    "[510,830,391,736,373,874,715,507,896,952,608,274,789,846,644,926,624,287,457,771,846,625,569,313,991],\n",
    "[424,641,314,455,917,721,541,491,626,965,364,806,558,453,802,353,350,742,286,996,763,364,319,690,808],\n",
    "[866,213,796,778,464,607,396,780,813,441,646,964,466,514,765,655,425,630,786,667,438,837,795,424,583],\n",
    "[301,208,771,770,920,719,733,212,202,546,558,414,470,210,786,765,698,479,598,562,589,341,324,351,710],\n",
    "[502,805,851,530,854,307,951,739,296,462,668,844,786,710,483,952,717,291,429,207,996,794,733,410,437],\n",
    "[309,592,352,681,737,494,295,786,329,671,730,907,855,770,766,329,733,561,960,596,518,447,475,692,816]]\n",
    "\n",
    "#Matriz de Capacidade - Fabricas x Produtos\n",
    "mat_capacidade = [[25,39,219,95,262,203,269,62,276,228,221,218,9,275,4,235,235,273,216,68],\n",
    "[19,188,174,87,246,90,48,271,51,259,135,16,202,151,46,103,110,123,106,133],\n",
    "[237,86,26,34,105,196,71,20,263,209,23,289,10,34,185,81,76,293,123,57],\n",
    "[165,126,113,74,100,106,127,233,72,296,160,233,116,102,186,1,191,176,7,228],\n",
    "[239,274,94,25,298,117,293,21,167,290,11,221,260,266,217,54,252,198,72,278],\n",
    "[235,84,253,86,96,164,143,291,95,143,187,87,218,98,93,279,26,205,175,118],\n",
    "[136,38,49,269,188,265,20,209,265,209,205,159,62,271,49,1,207,68,34,219],\n",
    "[286,1,225,224,231,75,135,251,189,22,7,99,174,30,96,247,66,4,171,215],\n",
    "[177,53,63,73,269,31,289,254,93,68,117,69,266,164,237,297,106,293,132,295],\n",
    "[122,139,3,224,78,115,59,34,265,120,199,217,99,5,100,287,170,91,64,89],\n",
    "[217,250,271,133,67,221,183,265,250,29,205,130,222,114,161,298,131,236,111,49],\n",
    "[140,28,185,89,156,258,254,156,202,96,76,188,105,214,135,246,36,183,2,184],\n",
    "[204,130,62,137,64,74,135,171,180,231,179,178,180,56,126,48,205,299,66,156],\n",
    "[197,50,143,33,70,273,213,110,92,172,297,288,249,195,149,244,244,134,81,234]]\n",
    "\n",
    "#Matriz de Demandas - Centros x Produtos\n",
    "mat_demandas = [[224,92,61,177,235,291,154,256,296,30,179,294,293,293,152,216,69,111,26,13],\n",
    "[16,295,18,97,6,64,292,130,295,79,102,131,150,187,239,254,277,132,276,252],\n",
    "[260,109,256,137,224,84,266,178,74,133,104,13,84,121,231,173,103,81,208,105],\n",
    "[223,32,285,240,198,193,10,45,97,28,92,156,50,7,198,145,105,15,195,0],\n",
    "[245,239,145,113,248,147,76,42,158,106,190,162,121,108,9,245,268,85,189,137],\n",
    "[213,239,118,119,190,65,278,278,168,22,165,178,194,147,20,52,171,244,249,167],\n",
    "[244,51,203,106,276,149,288,274,203,198,189,273,249,294,18,182,216,98,50,25],\n",
    "[278,172,224,76,168,20,225,40,271,70,148,2,62,99,67,132,108,273,82,76],\n",
    "[56,175,22,79,280,80,21,193,245,190,101,227,258,65,163,217,17,66,118,203],\n",
    "[229,178,238,298,128,36,220,78,147,58,131,121,231,71,103,238,14,261,21,216],\n",
    "[283,218,61,19,248,253,229,83,28,118,27,20,40,24,50,49,162,191,134,162],\n",
    "[79,142,110,106,77,100,202,46,260,100,175,264,3,29,215,39,91,249,147,113],\n",
    "[135,296,75,128,219,11,111,241,28,145,38,252,126,281,268,174,28,154,105,54],\n",
    "[128,235,11,280,33,100,19,217,34,201,120,99,122,268,128,84,224,20,66,278],\n",
    "[176,129,136,58,77,85,223,190,187,105,236,129,7,78,175,286,255,69,44,23],\n",
    "[172,14,3,133,192,105,27,16,144,202,296,49,176,113,145,32,160,18,8,190],\n",
    "[198,230,172,31,161,193,131,98,240,4,10,11,29,43,201,16,249,15,32,261],\n",
    "[18,136,277,1,195,230,292,14,293,223,265,127,281,149,291,195,5,210,4,16],\n",
    "[21,117,105,254,90,57,79,272,5,80,142,49,39,224,45,285,149,92,239,125],\n",
    "[58,63,255,56,114,193,145,193,217,266,126,89,99,276,254,87,270,270,254,106],\n",
    "[78,203,148,271,226,233,177,224,29,84,140,87,148,193,169,42,295,220,185,117],\n",
    "[21,109,226,135,200,251,144,38,268,109,51,122,139,171,87,204,219,170,288,18],\n",
    "[108,225,89,55,283,225,197,218,206,118,15,207,250,90,224,269,143,29,252,236],\n",
    "[181,82,62,231,10,88,33,149,121,140,159,220,143,181,9,196,263,189,66,248],\n",
    "[255,73,294,41,72,125,40,296,112,23,16,18,239,196,224,240,151,68,192,243]]\n",
    "\n",
    "\n",
    "#Quantidade Total de Fabricas\n",
    "numero_fabricas = len(fabricas)\n",
    "numeros_centros = len (centros_distr)\n",
    "total_familias_produtos = 20\n",
    "\n"
   ]
  },
  {
   "cell_type": "code",
   "execution_count": 16,
   "metadata": {
    "tags": []
   },
   "outputs": [],
   "source": [
    "custos = dict()\n",
    "demandas = dict()\n",
    "capacidade = dict()\n",
    "fornecimento_fabrica_produto = dict()\n",
    "recebimento_centro_produto = dict ()\n",
    "\n",
    "#genérico enquanto não tem a relação correta\n",
    "familias_produtos = [\"Familia_Produto_{}\".format(i+1) for i in range(total_familias_produtos)]\n",
    "\n",
    "#Dicionario de Custos\n",
    "for i, fab in enumerate (fabricas):\n",
    "    for j, cent in enumerate(centros_distr):\n",
    "        custos[fab, cent] = mat_custos[i][j]\n",
    "\n",
    "#Dicionario de Capacidades\n",
    "for i, fab in enumerate (fabricas):\n",
    "    for j, prod in enumerate(familias_produtos):\n",
    "        capacidade[fab, prod] = mat_capacidade[i][j]\n",
    "\n",
    "#Dicionario de Demandas\n",
    "for i, cent in enumerate (centros_distr):\n",
    "    for j, prod in enumerate(familias_produtos):\n",
    "        demandas[cent, prod] = mat_demandas[i][j]\n",
    "\n",
    "\n",
    "##Monta Listas com Capacidades e Demandas de cada produto\n",
    "capacidade_produto = dict()\n",
    "demanda_produto = dict()\n",
    "aux = 0\n",
    "\n",
    "for k in familias_produtos:\n",
    "    for i in fabricas:\n",
    "        aux = aux + capacidade[i,k]\n",
    "    capacidade_produto[k] = aux\n",
    "    aux = 0\n",
    "aux =0\n",
    "\n",
    "for k in familias_produtos:\n",
    "    for j in centros_distr:\n",
    "        aux = aux + demandas[j,k]\n",
    "    demanda_produto[k] = aux\n",
    "    aux = 0\n"
   ]
  },
  {
   "cell_type": "code",
   "execution_count": 20,
   "metadata": {
    "tags": []
   },
   "outputs": [
    {
     "name": "stdout",
     "output_type": "stream",
     "text": [
      "Gurobi Optimizer version 9.1.2 build v9.1.2rc0 (win64)\n",
      "Thread count: 2 physical cores, 4 logical processors, using up to 4 threads\n",
      "Optimize a model with 780 rows, 7000 columns and 14000 nonzeros\n",
      "Model fingerprint: 0x978ac311\n",
      "Coefficient statistics:\n",
      "  Matrix range     [1e+00, 1e+00]\n",
      "  Objective range  [2e+02, 1e+03]\n",
      "  Bounds range     [0e+00, 0e+00]\n",
      "  RHS range        [1e+00, 3e+02]\n",
      "Presolve removed 1 rows and 14 columns\n",
      "Presolve time: 0.05s\n",
      "Presolved: 779 rows, 6986 columns, 13972 nonzeros\n",
      "\n",
      "Iteration    Objective       Primal Inf.    Dual Inf.      Time\n",
      "       0    9.9438420e+06   5.309655e+03   0.000000e+00      0s\n",
      "     421    1.0763740e+07   0.000000e+00   0.000000e+00      0s\n",
      "\n",
      "Solved in 421 iterations and 0.08 seconds\n",
      "Optimal objective  1.076374000e+07\n"
     ]
    }
   ],
   "source": [
    "\n",
    "\n",
    "## Modelo\n",
    "m = gp.Model()\n",
    "\n",
    "##Variáveis de Transporte\n",
    "transporte = m.addVars(fabricas, centros_distr, familias_produtos)\n",
    "\n",
    "c_capacidade = list()\n",
    "c_demandas = list()\n",
    "for k in familias_produtos:\n",
    "    if capacidade_produto[k] > demanda_produto [k]:\n",
    "        c_capacidade.append(m.addConstrs(gp.quicksum(transporte[i,j,k] for j in centros_distr)<= capacidade[i,k] for i in fabricas))\n",
    "        m.addConstrs(gp.quicksum(transporte[i,j,k] for i in fabricas)== demandas[j,k] for j in centros_distr)\n",
    "    else:\n",
    "        c_capacidade.append(m.addConstrs(gp.quicksum(transporte[i,j,k] for j in centros_distr)==capacidade[i,k] for i in fabricas))\n",
    "        c_demandas.append(m.addConstrs(gp.quicksum(transporte[i,j,k] for i in fabricas)<= demandas[j,k] for j in centros_distr))\n",
    "\n",
    "      \n",
    "#c_ofertas = m.addConstrs(gp.quicksum(transporte[i,j,k] for j in centros_distr)<= capacidade[i,k] for i in fabricas for k in familias_produtos)\n",
    "#c_demandas = m.addConstrs(gp.quicksum(transporte[i,j,k] for i in fabricas)== demandas[j,k] for j in centros_distr for k in familias_produtos)\n",
    "\n",
    "m.setObjective(gp.quicksum(transporte[i, j,k]* custos[i, j] for i in fabricas for j in centros_distr for k in familias_produtos), sense = gp.GRB.MINIMIZE)\n",
    "\n",
    "m.optimize()\n"
   ]
  },
  {
   "cell_type": "code",
   "execution_count": 14,
   "metadata": {
    "tags": []
   },
   "outputs": [
    {
     "name": "stdout",
     "output_type": "stream",
     "text": [
      "oi\n"
     ]
    }
   ],
   "source": [
    "print(\"oi\")"
   ]
  },
  {
   "cell_type": "code",
   "execution_count": null,
   "metadata": {},
   "outputs": [],
   "source": []
  }
 ],
 "metadata": {
  "interpreter": {
   "hash": "11ffc019a02cc0e21e59860b66c88ea81995ce9237607e8ab2c087a287ee4867"
  },
  "kernelspec": {
   "display_name": "Python 3",
   "language": "python",
   "name": "python3"
  },
  "language_info": {
   "codemirror_mode": {
    "name": "ipython",
    "version": 3
   },
   "file_extension": ".py",
   "mimetype": "text/x-python",
   "name": "python",
   "nbconvert_exporter": "python",
   "pygments_lexer": "ipython3",
   "version": "3.8.5"
  }
 },
 "nbformat": 4,
 "nbformat_minor": 2
}
