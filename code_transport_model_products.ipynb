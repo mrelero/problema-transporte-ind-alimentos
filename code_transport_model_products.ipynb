{
 "cells": [
  {
   "cell_type": "code",
   "execution_count": 1,
   "metadata": {},
   "outputs": [],
   "source": [
    "import gurobipy as gp"
   ]
  },
  {
   "cell_type": "code",
   "execution_count": 2,
   "metadata": {},
   "outputs": [],
   "source": [
    "#inicialização de variáveis\n",
    "fabricas = [\"Anastácio\", \"Nova Andradina\", \"Dourados\", \"Campo Grande\",  \"Caxias do Sul\", \"Itapetininga - SP\", \"Naviraí\" ,\"Brasília\", \"Manaus\", \"Ji-Paraná\", \"Itapetininga - BA\", \"São Gonçado dos Campos\",\"Feira de Santana\", \"Araguaína - TO\"]\n",
    "centros_distr = [\"Alta Floresta - MT\",\"Diamantino - MT\",\"Araputanga - MT\",\"Vilhena - RO\",\"Pimenta Bueno - RO\",\"Porto Velho\",\"São Miguel do Guaporé - RO\",\"Goiania - GO\",\"Ponta Porã\",\"Anhenguera - SP 1\",\"Osasco - SP\",\"Aparecida de Goiania \",\"Brasília - DF\",\"Maceió - AL\",\"Cascavel - CE\",\"Caucaia - CE\",\"Itaitinga - CE\",\"Simões Filho - BA\",\"Confresa - MT\",\"Barra do Garças - MT\",\"Pedra Preta - MT\",\"Juara - MT\",\"POontes e Lacerda - MT\",\"Anhenguera - SP 2\",\"Cajamar - SP\"]\n",
    "\n",
    "#Matriz de Distancias e Custos\n",
    "mat_custos = [[240,236,245,518,983,558,617,322,514,843,285,475,346,789,992,240,532,232,928,946,435,271,226,340,582],\n",
    "[491,329,565,486,854,848,219,529,930,750,700,504,725,724,507,779,478,927,633,341,305,845,595,420,206],\n",
    "[895,614,956,383,259,371,927,474,336,306,567,726,635,945,231,487,624,834,470,424,411,647,742,813,525],\n",
    "[657,759,749,512,464,498,516,793,332,309,986,260,625,271,709,435,1000,926,815,458,872,755,731,577,841],\n",
    "[639,590,776,617,242,983,899,766,409,371,884,216,912,337,305,610,204,706,522,699,407,280,302,231,585],\n",
    "[658,230,989,741,483,839,613,258,975,866,745,806,976,729,902,403,468,661,471,387,714,861,918,875,865],\n",
    "[870,498,308,843,431,248,960,321,646,705,580,646,256,354,322,380,638,292,265,555,676,918,975,787,610],\n",
    "[347,238,233,756,641,812,834,796,466,281,266,377,661,212,947,719,977,805,836,725,877,541,766,400,218],\n",
    "[510,830,391,736,373,874,715,507,896,952,608,274,789,846,644,926,624,287,457,771,846,625,569,313,991],\n",
    "[424,641,314,455,917,721,541,491,626,965,364,806,558,453,802,353,350,742,286,996,763,364,319,690,808],\n",
    "[866,213,796,778,464,607,396,780,813,441,646,964,466,514,765,655,425,630,786,667,438,837,795,424,583],\n",
    "[301,208,771,770,920,719,733,212,202,546,558,414,470,210,786,765,698,479,598,562,589,341,324,351,710],\n",
    "[502,805,851,530,854,307,951,739,296,462,668,844,786,710,483,952,717,291,429,207,996,794,733,410,437],\n",
    "[309,592,352,681,737,494,295,786,329,671,730,907,855,770,766,329,733,561,960,596,518,447,475,692,816]]\n",
    "\n",
    "#Custo Coletado\n",
    "# 3.5 o km a cada 25 toneladas 3,5/km 25Ton\n",
    "Custo_Transporte = 3.5\n",
    "\n",
    "#Matriz de Capacidade - Fabricas x Produtos\n",
    "mat_capacidade = [[2000,39,219,95,262,203,269,62,276,228,221,218,9,275,4,235,235,273,216,68],\n",
    "[19,188,174,87,246,90,48,271,51,259,135,16,202,151,46,103,110,123,106,133],\n",
    "[237,86,26,34,105,196,71,20,263,209,23,289,10,34,185,81,76,293,123,57],\n",
    "[165,126,113,74,100,106,127,233,72,296,160,233,116,102,186,1,191,176,7,228],\n",
    "[239,274,94,25,298,117,293,21,167,290,11,221,260,266,217,54,252,198,72,278],\n",
    "[235,84,253,86,96,164,143,291,95,143,187,87,218,98,93,279,26,205,175,118],\n",
    "[136,38,49,269,188,265,20,209,265,209,205,159,62,271,49,1,207,68,34,219],\n",
    "[286,1,225,224,231,75,135,251,189,22,7,99,174,30,96,247,66,4,171,215],\n",
    "[177,53,63,73,269,31,289,254,93,68,117,69,266,164,237,297,106,293,132,295],\n",
    "[122,139,3,224,78,115,59,34,265,120,199,217,99,5,100,287,170,91,64,89],\n",
    "[217,250,271,133,67,221,183,265,250,29,205,130,222,114,161,298,131,236,111,49],\n",
    "[140,28,185,89,156,258,254,156,202,96,76,188,105,214,135,246,36,183,2,184],\n",
    "[204,130,62,137,64,74,135,171,180,231,179,178,180,56,126,48,205,299,66,156],\n",
    "[197,50,143,33,70,273,213,110,92,172,297,288,249,195,149,244,244,134,81,234]]\n",
    "\n",
    "#Matriz de Demandas - Centros x Produtos\n",
    "mat_demandas = [[600,92,61,177,235,291,154,256,296,30,179,294,293,293,152,216,69,111,26,13],\n",
    "[16,295,18,97,6,64,292,130,295,79,102,131,150,187,239,254,277,132,276,252],\n",
    "[260,109,256,137,224,84,266,178,74,133,104,13,84,121,231,173,103,81,208,105],\n",
    "[223,32,285,240,198,193,10,45,97,28,92,156,50,7,198,145,105,15,195,0],\n",
    "[245,239,145,113,248,147,76,42,158,106,190,162,121,108,9,245,268,85,189,137],\n",
    "[213,239,118,119,190,65,278,278,168,22,165,178,194,147,20,52,171,244,249,167],\n",
    "[244,51,203,106,276,149,288,274,203,198,189,273,249,294,18,182,216,98,50,25],\n",
    "[278,172,224,76,168,20,225,40,271,70,148,2,62,99,67,132,108,273,82,76],\n",
    "[56,175,22,79,280,80,21,193,245,190,101,227,258,65,163,217,17,66,118,203],\n",
    "[229,178,238,298,128,36,220,78,147,58,131,121,231,71,103,238,14,261,21,216],\n",
    "[283,218,61,19,248,253,229,83,28,118,27,20,40,24,50,49,162,191,134,162],\n",
    "[79,142,110,106,77,100,202,46,260,100,175,264,3,29,215,39,91,249,147,113],\n",
    "[135,296,75,128,219,11,111,241,28,145,38,252,126,281,268,174,28,154,105,54],\n",
    "[128,235,11,280,33,100,19,217,34,201,120,99,122,268,128,84,224,20,66,278],\n",
    "[176,129,136,58,77,85,223,190,187,105,236,129,7,78,175,286,255,69,44,23],\n",
    "[172,14,3,133,192,105,27,16,144,202,296,49,176,113,145,32,160,18,8,190],\n",
    "[198,230,172,31,161,193,131,98,240,4,10,11,29,43,201,16,249,15,32,261],\n",
    "[18,136,277,1,195,230,292,14,293,223,265,127,281,149,291,195,5,210,4,16],\n",
    "[21,117,105,254,90,57,79,272,5,80,142,49,39,224,45,285,149,92,239,125],\n",
    "[58,63,255,56,114,193,145,193,217,266,126,89,99,276,254,87,270,270,254,106],\n",
    "[78,203,148,271,226,233,177,224,29,84,140,87,148,193,169,42,295,220,185,117],\n",
    "[21,109,226,135,200,251,144,38,268,109,51,122,139,171,87,204,219,170,288,18],\n",
    "[108,225,89,55,283,225,197,218,206,118,15,207,250,90,224,269,143,29,252,236],\n",
    "[181,82,62,231,10,88,33,149,121,140,159,220,143,181,9,196,263,189,66,248],\n",
    "[255,73,294,41,72,125,40,296,112,23,16,18,239,196,224,240,151,68,192,243]]\n",
    "\n",
    "\n",
    "#Quantidade Total de Fabricas\n",
    "numero_fabricas = len(fabricas)\n",
    "numeros_centros = len (centros_distr)\n",
    "total_familias_produtos = 20\n",
    "\n"
   ]
  },
  {
   "cell_type": "code",
   "execution_count": 3,
   "metadata": {
    "tags": []
   },
   "outputs": [],
   "source": [
    "custos = dict()\n",
    "demandas = dict()\n",
    "capacidade = dict()\n",
    "fornecimento_fabrica_produto = dict()\n",
    "recebimento_centro_produto = dict ()\n",
    "\n",
    "#genérico enquanto não tem a relação correta\n",
    "familias_produtos = [\"Familia_Produto_{}\".format(i+1) for i in range(total_familias_produtos)]\n",
    "\n",
    "#Dicionario de Custos\n",
    "for i, fab in enumerate (fabricas):\n",
    "    for j, cent in enumerate(centros_distr):\n",
    "        custos[fab, cent] = mat_custos[i][j]\n",
    "\n",
    "#Dicionario de Capacidades\n",
    "for i, fab in enumerate (fabricas):\n",
    "    for j, prod in enumerate(familias_produtos):\n",
    "        capacidade[fab, prod] = mat_capacidade[i][j]\n",
    "\n",
    "#Dicionario de Demandas\n",
    "for i, cent in enumerate (centros_distr):\n",
    "    for j, prod in enumerate(familias_produtos):\n",
    "        demandas[cent, prod] = mat_demandas[i][j]\n",
    "\n",
    "\n",
    "##Monta Listas com Capacidades e Demandas de cada produto\n",
    "capacidade_produto = dict()\n",
    "demanda_produto = dict()\n",
    "aux = 0\n",
    "\n",
    "for k in familias_produtos:\n",
    "    for i in fabricas:\n",
    "        aux = aux + capacidade[i,k]\n",
    "    capacidade_produto[k] = aux\n",
    "    aux = 0\n",
    "aux =0\n",
    "\n",
    "for k in familias_produtos:\n",
    "    for j in centros_distr:\n",
    "        aux = aux + demandas[j,k]\n",
    "    demanda_produto[k] = aux\n",
    "    aux = 0\n",
    "\n"
   ]
  },
  {
   "cell_type": "code",
   "execution_count": 4,
   "metadata": {
    "tags": []
   },
   "outputs": [
    {
     "output_type": "stream",
     "name": "stdout",
     "text": [
      "Academic license - for non-commercial use only - expires 2021-07-17\n",
      "Using license file C:\\Users\\Usuario\\gurobi.lic\n",
      "Gurobi Optimizer version 9.1.2 build v9.1.2rc0 (win64)\n",
      "Thread count: 2 physical cores, 4 logical processors, using up to 4 threads\n",
      "Optimize a model with 780 rows, 7000 columns and 14000 nonzeros\n",
      "Model fingerprint: 0xb1c3fb56\n",
      "Coefficient statistics:\n",
      "  Matrix range     [1e+00, 1e+00]\n",
      "  Objective range  [2e+02, 1e+03]\n",
      "  Bounds range     [0e+00, 0e+00]\n",
      "  RHS range        [1e+00, 2e+03]\n",
      "Presolve removed 1 rows and 14 columns\n",
      "Presolve time: 0.07s\n",
      "Presolved: 779 rows, 6986 columns, 13972 nonzeros\n",
      "\n",
      "Iteration    Objective       Primal Inf.    Dual Inf.      Time\n",
      "       0    1.0420782e+07   5.371813e+03   0.000000e+00      0s\n",
      "     441    1.1322430e+07   0.000000e+00   0.000000e+00      0s\n",
      "\n",
      "Solved in 441 iterations and 0.14 seconds\n",
      "Optimal objective  1.132243000e+07\n"
     ]
    }
   ],
   "source": [
    "\n",
    "\n",
    "## Modelo\n",
    "m = gp.Model()\n",
    "\n",
    "##Variáveis de Transporte\n",
    "transporte = m.addVars(fabricas, centros_distr, familias_produtos)\n",
    "\n",
    "c_capacidade = list()\n",
    "c_demandas = list()\n",
    "for k in familias_produtos:\n",
    "    if capacidade_produto[k] > demanda_produto [k]:\n",
    "        c_capacidade.append(m.addConstrs(gp.quicksum(transporte[i,j,k] for j in centros_distr)<= capacidade[i,k] for i in fabricas))\n",
    "        c_demandas.append(m.addConstrs(gp.quicksum(transporte[i,j,k] for i in fabricas)== demandas[j,k] for j in centros_distr))\n",
    "    else:\n",
    "        c_capacidade.append(m.addConstrs(gp.quicksum(transporte[i,j,k] for j in centros_distr)==capacidade[i,k] for i in fabricas))\n",
    "        c_demandas.append(m.addConstrs(gp.quicksum(transporte[i,j,k] for i in fabricas)<= demandas[j,k] for j in centros_distr))\n",
    "\n",
    "      \n",
    "#c_ofertas = m.addConstrs(gp.quicksum(transporte[i,j,k] for j in centros_distr)<= capacidade[i,k] for i in fabricas for k in familias_produtos)\n",
    "#c_demandas = m.addConstrs(gp.quicksum(transporte[i,j,k] for i in fabricas)== demandas[j,k] for j in centros_distr for k in familias_produtos)\n",
    "\n",
    "m.setObjective(gp.quicksum(transporte[i, j,k]* custos[i, j] for i in fabricas for j in centros_distr for k in familias_produtos), sense = gp.GRB.MINIMIZE)\n",
    "\n",
    "m.optimize()\n"
   ]
  },
  {
   "cell_type": "code",
   "execution_count": 9,
   "metadata": {
    "tags": []
   },
   "outputs": [
    {
     "output_type": "stream",
     "name": "stdout",
     "text": [
      "Anastácio fornece 600.0 toneladas de Familia_Produto_1 para Alta Floresta - MT\nAnastácio fornece 42.0 toneladas de Familia_Produto_7 para Alta Floresta - MT\nAnastácio fornece 52.0 toneladas de Familia_Produto_9 para Alta Floresta - MT\nAnastácio fornece 125.0 toneladas de Familia_Produto_12 para Alta Floresta - MT\nAnastácio fornece 72.0 toneladas de Familia_Produto_14 para Alta Floresta - MT\nAnastácio fornece 92.0 toneladas de Familia_Produto_17 para Diamantino - MT\nAnastácio fornece 260.0 toneladas de Familia_Produto_1 para Araputanga - MT\nAnastácio fornece 77.0 toneladas de Familia_Produto_18 para Araputanga - MT\nAnastácio fornece 142.0 toneladas de Familia_Produto_1 para Vilhena - RO\nAnastácio fornece 43.0 toneladas de Familia_Produto_1 para Goiania - GO\nAnastácio fornece 283.0 toneladas de Familia_Produto_1 para Osasco - SP\nAnastácio fornece 135.0 toneladas de Familia_Produto_1 para Brasília - DF\nAnastácio fornece 172.0 toneladas de Familia_Produto_1 para Caucaia - CE\nAnastácio fornece 40.0 toneladas de Familia_Produto_4 para Caucaia - CE\nAnastácio fornece 27.0 toneladas de Familia_Produto_7 para Caucaia - CE\nAnastácio fornece 113.0 toneladas de Familia_Produto_14 para Caucaia - CE\nAnastácio fornece 18.0 toneladas de Familia_Produto_18 para Caucaia - CE\nAnastácio fornece 18.0 toneladas de Familia_Produto_1 para Simões Filho - BA\nAnastácio fornece 214.0 toneladas de Familia_Produto_3 para Simões Filho - BA\nAnastácio fornece 3.0 toneladas de Familia_Produto_7 para Simões Filho - BA\nAnastácio fornece 224.0 toneladas de Familia_Produto_9 para Simões Filho - BA\nAnastácio fornece 110.0 toneladas de Familia_Produto_10 para Simões Filho - BA\nAnastácio fornece 206.0 toneladas de Familia_Produto_11 para Simões Filho - BA\nAnastácio fornece 41.0 toneladas de Familia_Produto_12 para Simões Filho - BA\nAnastácio fornece 112.0 toneladas de Familia_Produto_18 para Simões Filho - BA\nAnastácio fornece 37.0 toneladas de Familia_Produto_1 para Pedra Preta - MT\nAnastácio fornece 21.0 toneladas de Familia_Produto_1 para Juara - MT\nAnastácio fornece 37.0 toneladas de Familia_Produto_18 para Juara - MT\nAnastácio fornece 108.0 toneladas de Familia_Produto_1 para POontes e Lacerda - MT\nAnastácio fornece 39.0 toneladas de Familia_Produto_2 para POontes e Lacerda - MT\nAnastácio fornece 5.0 toneladas de Familia_Produto_3 para POontes e Lacerda - MT\nAnastácio fornece 55.0 toneladas de Familia_Produto_4 para POontes e Lacerda - MT\nAnastácio fornece 262.0 toneladas de Familia_Produto_5 para POontes e Lacerda - MT\nAnastácio fornece 203.0 toneladas de Familia_Produto_6 para POontes e Lacerda - MT\nAnastácio fornece 197.0 toneladas de Familia_Produto_7 para POontes e Lacerda - MT\nAnastácio fornece 62.0 toneladas de Familia_Produto_8 para POontes e Lacerda - MT\nAnastácio fornece 118.0 toneladas de Familia_Produto_10 para POontes e Lacerda - MT\nAnastácio fornece 15.0 toneladas de Familia_Produto_11 para POontes e Lacerda - MT\nAnastácio fornece 52.0 toneladas de Familia_Produto_12 para POontes e Lacerda - MT\nAnastácio fornece 9.0 toneladas de Familia_Produto_13 para POontes e Lacerda - MT\nAnastácio fornece 90.0 toneladas de Familia_Produto_14 para POontes e Lacerda - MT\nAnastácio fornece 4.0 toneladas de Familia_Produto_15 para POontes e Lacerda - MT\nAnastácio fornece 235.0 toneladas de Familia_Produto_16 para POontes e Lacerda - MT\nAnastácio fornece 143.0 toneladas de Familia_Produto_17 para POontes e Lacerda - MT\nAnastácio fornece 29.0 toneladas de Familia_Produto_18 para POontes e Lacerda - MT\nAnastácio fornece 216.0 toneladas de Familia_Produto_19 para POontes e Lacerda - MT\nAnastácio fornece 68.0 toneladas de Familia_Produto_20 para POontes e Lacerda - MT\nAnastácio fornece 181.0 toneladas de Familia_Produto_1 para Anhenguera - SP 2\nNova Andradina fornece 19.0 toneladas de Familia_Produto_1 para São Miguel do Guaporé - RO\nNova Andradina fornece 51.0 toneladas de Familia_Produto_2 para São Miguel do Guaporé - RO\nNova Andradina fornece 46.0 toneladas de Familia_Produto_4 para São Miguel do Guaporé - RO\nNova Andradina fornece 181.0 toneladas de Familia_Produto_5 para São Miguel do Guaporé - RO\nNova Andradina fornece 48.0 toneladas de Familia_Produto_7 para São Miguel do Guaporé - RO\nNova Andradina fornece 9.0 toneladas de Familia_Produto_8 para São Miguel do Guaporé - RO\nNova Andradina fornece 51.0 toneladas de Familia_Produto_9 para São Miguel do Guaporé - RO\nNova Andradina fornece 198.0 toneladas de Familia_Produto_10 para São Miguel do Guaporé - RO\nNova Andradina fornece 119.0 toneladas de Familia_Produto_11 para São Miguel do Guaporé - RO\nNova Andradina fornece 44.0 toneladas de Familia_Produto_13 para São Miguel do Guaporé - RO\nNova Andradina fornece 55.0 toneladas de Familia_Produto_18 para São Miguel do Guaporé - RO\nNova Andradina fornece 64.0 toneladas de Familia_Produto_2 para Pedra Preta - MT\nNova Andradina fornece 38.0 toneladas de Familia_Produto_10 para Pedra Preta - MT\nNova Andradina fornece 73.0 toneladas de Familia_Produto_2 para Cajamar - SP\nNova Andradina fornece 174.0 toneladas de Familia_Produto_3 para Cajamar - SP\nNova Andradina fornece 41.0 toneladas de Familia_Produto_4 para Cajamar - SP\nNova Andradina fornece 65.0 toneladas de Familia_Produto_5 para Cajamar - SP\nNova Andradina fornece 90.0 toneladas de Familia_Produto_6 para Cajamar - SP\nNova Andradina fornece 262.0 toneladas de Familia_Produto_8 para Cajamar - SP\nNova Andradina fornece 23.0 toneladas de Familia_Produto_10 para Cajamar - SP\nNova Andradina fornece 16.0 toneladas de Familia_Produto_11 para Cajamar - SP\nNova Andradina fornece 16.0 toneladas de Familia_Produto_12 para Cajamar - SP\nNova Andradina fornece 158.0 toneladas de Familia_Produto_13 para Cajamar - SP\nNova Andradina fornece 151.0 toneladas de Familia_Produto_14 para Cajamar - SP\nNova Andradina fornece 46.0 toneladas de Familia_Produto_15 para Cajamar - SP\nNova Andradina fornece 103.0 toneladas de Familia_Produto_16 para Cajamar - SP\nNova Andradina fornece 110.0 toneladas de Familia_Produto_17 para Cajamar - SP\nNova Andradina fornece 68.0 toneladas de Familia_Produto_18 para Cajamar - SP\nNova Andradina fornece 106.0 toneladas de Familia_Produto_19 para Cajamar - SP\nNova Andradina fornece 133.0 toneladas de Familia_Produto_20 para Cajamar - SP\nDourados fornece 86.0 toneladas de Familia_Produto_1 para Pimenta Bueno - RO\nDourados fornece 28.0 toneladas de Familia_Produto_5 para Pimenta Bueno - RO\nDourados fornece 111.0 toneladas de Familia_Produto_6 para Pimenta Bueno - RO\nDourados fornece 76.0 toneladas de Familia_Produto_9 para Pimenta Bueno - RO\nDourados fornece 104.0 toneladas de Familia_Produto_10 para Pimenta Bueno - RO\nDourados fornece 160.0 toneladas de Familia_Produto_12 para Pimenta Bueno - RO\nDourados fornece 3.0 toneladas de Familia_Produto_13 para Pimenta Bueno - RO\nDourados fornece 9.0 toneladas de Familia_Produto_15 para Pimenta Bueno - RO\nDourados fornece 85.0 toneladas de Familia_Produto_18 para Pimenta Bueno - RO\nDourados fornece 79.0 toneladas de Familia_Produto_19 para Pimenta Bueno - RO\nDourados fornece 34.0 toneladas de Familia_Produto_20 para Pimenta Bueno - RO\nDourados fornece 1.0 toneladas de Familia_Produto_15 para Anhenguera - SP 1\nDourados fornece 139.0 toneladas de Familia_Produto_18 para Anhenguera - SP 1\nDourados fornece 151.0 toneladas de Familia_Produto_1 para Cascavel - CE\nDourados fornece 86.0 toneladas de Familia_Produto_2 para Cascavel - CE\nDourados fornece 26.0 toneladas de Familia_Produto_3 para Cascavel - CE\nDourados fornece 34.0 toneladas de Familia_Produto_4 para Cascavel - CE\nDourados fornece 77.0 toneladas de Familia_Produto_5 para Cascavel - CE\nDourados fornece 85.0 toneladas de Familia_Produto_6 para Cascavel - CE\nDourados fornece 71.0 toneladas de Familia_Produto_7 para Cascavel - CE\nDourados fornece 20.0 toneladas de Familia_Produto_8 para Cascavel - CE\nDourados fornece 187.0 toneladas de Familia_Produto_9 para Cascavel - CE\nDourados fornece 105.0 toneladas de Familia_Produto_10 para Cascavel - CE\nDourados fornece 23.0 toneladas de Familia_Produto_11 para Cascavel - CE\nDourados fornece 129.0 toneladas de Familia_Produto_12 para Cascavel - CE\nDourados fornece 7.0 toneladas de Familia_Produto_13 para Cascavel - CE\nDourados fornece 34.0 toneladas de Familia_Produto_14 para Cascavel - CE\nDourados fornece 175.0 toneladas de Familia_Produto_15 para Cascavel - CE\nDourados fornece 81.0 toneladas de Familia_Produto_16 para Cascavel - CE\nDourados fornece 76.0 toneladas de Familia_Produto_17 para Cascavel - CE\nDourados fornece 69.0 toneladas de Familia_Produto_18 para Cascavel - CE\nDourados fornece 44.0 toneladas de Familia_Produto_19 para Cascavel - CE\nDourados fornece 23.0 toneladas de Familia_Produto_20 para Cascavel - CE\nCampo Grande fornece 165.0 toneladas de Familia_Produto_1 para Anhenguera - SP 1\nCampo Grande fornece 3.0 toneladas de Familia_Produto_3 para Anhenguera - SP 1\nCampo Grande fornece 64.0 toneladas de Familia_Produto_5 para Anhenguera - SP 1\nCampo Grande fornece 6.0 toneladas de Familia_Produto_6 para Anhenguera - SP 1\nCampo Grande fornece 58.0 toneladas de Familia_Produto_8 para Anhenguera - SP 1\nCampo Grande fornece 58.0 toneladas de Familia_Produto_10 para Anhenguera - SP 1\nCampo Grande fornece 122.0 toneladas de Familia_Produto_18 para Anhenguera - SP 1\nCampo Grande fornece 45.0 toneladas de Familia_Produto_2 para Aparecida de Goiania \nCampo Grande fornece 110.0 toneladas de Familia_Produto_3 para Aparecida de Goiania \nCampo Grande fornece 33.0 toneladas de Familia_Produto_4 para Aparecida de Goiania \nCampo Grande fornece 3.0 toneladas de Familia_Produto_5 para Aparecida de Goiania \nCampo Grande fornece 100.0 toneladas de Familia_Produto_6 para Aparecida de Goiania \nCampo Grande fornece 127.0 toneladas de Familia_Produto_7 para Aparecida de Goiania \nCampo Grande fornece 72.0 toneladas de Familia_Produto_9 para Aparecida de Goiania \nCampo Grande fornece 37.0 toneladas de Familia_Produto_10 para Aparecida de Goiania \nCampo Grande fornece 57.0 toneladas de Familia_Produto_11 para Aparecida de Goiania \nCampo Grande fornece 231.0 toneladas de Familia_Produto_12 para Aparecida de Goiania \nCampo Grande fornece 3.0 toneladas de Familia_Produto_13 para Aparecida de Goiania \nCampo Grande fornece 154.0 toneladas de Familia_Produto_15 para Aparecida de Goiania \nCampo Grande fornece 54.0 toneladas de Familia_Produto_18 para Aparecida de Goiania \nCampo Grande fornece 7.0 toneladas de Familia_Produto_19 para Aparecida de Goiania \nCampo Grande fornece 81.0 toneladas de Familia_Produto_2 para Maceió - AL\nCampo Grande fornece 41.0 toneladas de Familia_Produto_4 para Maceió - AL\nCampo Grande fornece 33.0 toneladas de Familia_Produto_5 para Maceió - AL\nCampo Grande fornece 175.0 toneladas de Familia_Produto_8 para Maceió - AL\nCampo Grande fornece 201.0 toneladas de Familia_Produto_10 para Maceió - AL\nCampo Grande fornece 103.0 toneladas de Familia_Produto_11 para Maceió - AL\nCampo Grande fornece 2.0 toneladas de Familia_Produto_12 para Maceió - AL\nCampo Grande fornece 113.0 toneladas de Familia_Produto_13 para Maceió - AL\nCampo Grande fornece 102.0 toneladas de Familia_Produto_14 para Maceió - AL\nCampo Grande fornece 32.0 toneladas de Familia_Produto_15 para Maceió - AL\nCampo Grande fornece 1.0 toneladas de Familia_Produto_16 para Maceió - AL\nCampo Grande fornece 191.0 toneladas de Familia_Produto_17 para Maceió - AL\nCampo Grande fornece 228.0 toneladas de Familia_Produto_20 para Maceió - AL\nCaxias do Sul fornece 61.0 toneladas de Familia_Produto_1 para Pimenta Bueno - RO\nCaxias do Sul fornece 127.0 toneladas de Familia_Produto_5 para Pimenta Bueno - RO\nCaxias do Sul fornece 54.0 toneladas de Familia_Produto_7 para Pimenta Bueno - RO\nCaxias do Sul fornece 2.0 toneladas de Familia_Produto_10 para Pimenta Bueno - RO\nCaxias do Sul fornece 88.0 toneladas de Familia_Produto_13 para Pimenta Bueno - RO\nCaxias do Sul fornece 28.0 toneladas de Familia_Produto_14 para Pimenta Bueno - RO\nCaxias do Sul fornece 44.0 toneladas de Familia_Produto_2 para Aparecida de Goiania \nCaxias do Sul fornece 75.0 toneladas de Familia_Produto_7 para Aparecida de Goiania \nCaxias do Sul fornece 63.0 toneladas de Familia_Produto_10 para Aparecida de Goiania \nCaxias do Sul fornece 1.0 toneladas de Familia_Produto_11 para Aparecida de Goiania \nCaxias do Sul fornece 14.0 toneladas de Familia_Produto_14 para Aparecida de Goiania \nCaxias do Sul fornece 16.0 toneladas de Familia_Produto_15 para Aparecida de Goiania \nCaxias do Sul fornece 12.0 toneladas de Familia_Produto_19 para Aparecida de Goiania \nCaxias do Sul fornece 178.0 toneladas de Familia_Produto_1 para Itaitinga - CE\nCaxias do Sul fornece 230.0 toneladas de Familia_Produto_2 para Itaitinga - CE\nCaxias do Sul fornece 94.0 toneladas de Familia_Produto_3 para Itaitinga - CE\nCaxias do Sul fornece 25.0 toneladas de Familia_Produto_4 para Itaitinga - CE\nCaxias do Sul fornece 161.0 toneladas de Familia_Produto_5 para Itaitinga - CE\nCaxias do Sul fornece 117.0 toneladas de Familia_Produto_6 para Itaitinga - CE\nCaxias do Sul fornece 131.0 toneladas de Familia_Produto_7 para Itaitinga - CE\nCaxias do Sul fornece 21.0 toneladas de Familia_Produto_8 para Itaitinga - CE\nCaxias do Sul fornece 167.0 toneladas de Familia_Produto_9 para Itaitinga - CE\nCaxias do Sul fornece 4.0 toneladas de Familia_Produto_10 para Itaitinga - CE\nCaxias do Sul fornece 10.0 toneladas de Familia_Produto_11 para Itaitinga - CE\nCaxias do Sul fornece 11.0 toneladas de Familia_Produto_12 para Itaitinga - CE\nCaxias do Sul fornece 29.0 toneladas de Familia_Produto_13 para Itaitinga - CE\nCaxias do Sul fornece 43.0 toneladas de Familia_Produto_14 para Itaitinga - CE\nCaxias do Sul fornece 201.0 toneladas de Familia_Produto_15 para Itaitinga - CE\nCaxias do Sul fornece 16.0 toneladas de Familia_Produto_16 para Itaitinga - CE\nCaxias do Sul fornece 249.0 toneladas de Familia_Produto_17 para Itaitinga - CE\nCaxias do Sul fornece 15.0 toneladas de Familia_Produto_18 para Itaitinga - CE\nCaxias do Sul fornece 32.0 toneladas de Familia_Produto_19 para Itaitinga - CE\nCaxias do Sul fornece 261.0 toneladas de Familia_Produto_20 para Itaitinga - CE\nCaxias do Sul fornece 81.0 toneladas de Familia_Produto_10 para Juara - MT\nCaxias do Sul fornece 10.0 toneladas de Familia_Produto_5 para Anhenguera - SP 2\nCaxias do Sul fornece 33.0 toneladas de Familia_Produto_7 para Anhenguera - SP 2\nCaxias do Sul fornece 140.0 toneladas de Familia_Produto_10 para Anhenguera - SP 2\nCaxias do Sul fornece 210.0 toneladas de Familia_Produto_12 para Anhenguera - SP 2\nCaxias do Sul fornece 143.0 toneladas de Familia_Produto_13 para Anhenguera - SP 2\nCaxias do Sul fornece 181.0 toneladas de Familia_Produto_14 para Anhenguera - SP 2\nCaxias do Sul fornece 38.0 toneladas de Familia_Produto_16 para Anhenguera - SP 2\nCaxias do Sul fornece 3.0 toneladas de Familia_Produto_17 para Anhenguera - SP 2\nCaxias do Sul fornece 183.0 toneladas de Familia_Produto_18 para Anhenguera - SP 2\nCaxias do Sul fornece 28.0 toneladas de Familia_Produto_19 para Anhenguera - SP 2\nCaxias do Sul fornece 17.0 toneladas de Familia_Produto_20 para Anhenguera - SP 2\nItapetininga - SP fornece 45.0 toneladas de Familia_Produto_2 para Diamantino - MT\nItapetininga - SP fornece 109.0 toneladas de Familia_Produto_7 para Diamantino - MT\nItapetininga - SP fornece 130.0 toneladas de Familia_Produto_8 para Diamantino - MT\nItapetininga - SP fornece 22.0 toneladas de Familia_Produto_9 para Diamantino - MT\nItapetininga - SP fornece 50.0 toneladas de Familia_Produto_10 para Diamantino - MT\nItapetininga - SP fornece 36.0 toneladas de Familia_Produto_12 para Diamantino - MT\nItapetininga - SP fornece 73.0 toneladas de Familia_Produto_14 para Diamantino - MT\nItapetininga - SP fornece 78.0 toneladas de Familia_Produto_15 para Diamantino - MT\nItapetininga - SP fornece 76.0 toneladas de Familia_Produto_16 para Diamantino - MT\nItapetininga - SP fornece 26.0 toneladas de Familia_Produto_17 para Diamantino - MT\nItapetininga - SP fornece 165.0 toneladas de Familia_Produto_19 para Diamantino - MT\nItapetininga - SP fornece 118.0 toneladas de Familia_Produto_20 para Diamantino - MT\nItapetininga - SP fornece 235.0 toneladas de Familia_Produto_1 para Goiania - GO\nItapetininga - SP fornece 39.0 toneladas de Familia_Produto_2 para Goiania - GO\nItapetininga - SP fornece 224.0 toneladas de Familia_Produto_3 para Goiania - GO\nItapetininga - SP fornece 76.0 toneladas de Familia_Produto_4 para Goiania - GO\nItapetininga - SP fornece 96.0 toneladas de Familia_Produto_5 para Goiania - GO\nItapetininga - SP fornece 20.0 toneladas de Familia_Produto_6 para Goiania - GO\nItapetininga - SP fornece 34.0 toneladas de Familia_Produto_7 para Goiania - GO\nItapetininga - SP fornece 40.0 toneladas de Familia_Produto_8 para Goiania - GO\nItapetininga - SP fornece 73.0 toneladas de Familia_Produto_9 para Goiania - GO\nItapetininga - SP fornece 70.0 toneladas de Familia_Produto_10 para Goiania - GO\nItapetininga - SP fornece 148.0 toneladas de Familia_Produto_11 para Goiania - GO\nItapetininga - SP fornece 2.0 toneladas de Familia_Produto_12 para Goiania - GO\nItapetininga - SP fornece 62.0 toneladas de Familia_Produto_13 para Goiania - GO\nItapetininga - SP fornece 25.0 toneladas de Familia_Produto_14 para Goiania - GO\nItapetininga - SP fornece 15.0 toneladas de Familia_Produto_15 para Goiania - GO\nItapetininga - SP fornece 132.0 toneladas de Familia_Produto_16 para Goiania - GO\nItapetininga - SP fornece 205.0 toneladas de Familia_Produto_18 para Goiania - GO\nItapetininga - SP fornece 10.0 toneladas de Familia_Produto_19 para Goiania - GO\nItapetininga - SP fornece 10.0 toneladas de Familia_Produto_4 para Caucaia - CE\nItapetininga - SP fornece 25.0 toneladas de Familia_Produto_6 para Caucaia - CE\nItapetininga - SP fornece 16.0 toneladas de Familia_Produto_8 para Caucaia - CE\nItapetininga - SP fornece 39.0 toneladas de Familia_Produto_11 para Caucaia - CE\nItapetininga - SP fornece 49.0 toneladas de Familia_Produto_12 para Caucaia - CE\nItapetininga - SP fornece 156.0 toneladas de Familia_Produto_13 para Caucaia - CE\nItapetininga - SP fornece 32.0 toneladas de Familia_Produto_16 para Caucaia - CE\nItapetininga - SP fornece 77.0 toneladas de Familia_Produto_8 para Itaitinga - CE\nItapetininga - SP fornece 6.0 toneladas de Familia_Produto_8 para Confresa - MT\nItapetininga - SP fornece 29.0 toneladas de Familia_Produto_3 para Barra do Garças - MT\nItapetininga - SP fornece 119.0 toneladas de Familia_Produto_6 para Barra do Garças - MT\nItapetininga - SP fornece 22.0 toneladas de Familia_Produto_8 para Barra do Garças - MT\nItapetininga - SP fornece 23.0 toneladas de Familia_Produto_10 para Barra do Garças - MT\nItapetininga - SP fornece 39.0 toneladas de Familia_Produto_16 para Barra do Garças - MT\nNaviraí fornece 111.0 toneladas de Familia_Produto_1 para Porto Velho\nNaviraí fornece 38.0 toneladas de Familia_Produto_2 para Porto Velho\nNaviraí fornece 49.0 toneladas de Familia_Produto_3 para Porto Velho\nNaviraí fornece 111.0 toneladas de Familia_Produto_4 para Porto Velho\nNaviraí fornece 188.0 toneladas de Familia_Produto_5 para Porto Velho\nNaviraí fornece 65.0 toneladas de Familia_Produto_6 para Porto Velho\nNaviraí fornece 20.0 toneladas de Familia_Produto_7 para Porto Velho\nNaviraí fornece 209.0 toneladas de Familia_Produto_8 para Porto Velho\nNaviraí fornece 168.0 toneladas de Familia_Produto_9 para Porto Velho\nNaviraí fornece 22.0 toneladas de Familia_Produto_10 para Porto Velho\nNaviraí fornece 165.0 toneladas de Familia_Produto_11 para Porto Velho\nNaviraí fornece 159.0 toneladas de Familia_Produto_12 para Porto Velho\nNaviraí fornece 62.0 toneladas de Familia_Produto_13 para Porto Velho\nNaviraí fornece 147.0 toneladas de Familia_Produto_14 para Porto Velho\nNaviraí fornece 20.0 toneladas de Familia_Produto_15 para Porto Velho\nNaviraí fornece 1.0 toneladas de Familia_Produto_16 para Porto Velho\nNaviraí fornece 171.0 toneladas de Familia_Produto_17 para Porto Velho\nNaviraí fornece 68.0 toneladas de Familia_Produto_18 para Porto Velho\nNaviraí fornece 34.0 toneladas de Familia_Produto_19 para Porto Velho\nNaviraí fornece 167.0 toneladas de Familia_Produto_20 para Porto Velho\nNaviraí fornece 128.0 toneladas de Familia_Produto_4 para Brasília - DF\nNaviraí fornece 11.0 toneladas de Familia_Produto_6 para Brasília - DF\nNaviraí fornece 28.0 toneladas de Familia_Produto_9 para Brasília - DF\nNaviraí fornece 145.0 toneladas de Familia_Produto_10 para Brasília - DF\nNaviraí fornece 38.0 toneladas de Familia_Produto_11 para Brasília - DF\nNaviraí fornece 124.0 toneladas de Familia_Produto_14 para Brasília - DF\nNaviraí fornece 29.0 toneladas de Familia_Produto_15 para Brasília - DF\nNaviraí fornece 28.0 toneladas de Familia_Produto_17 para Brasília - DF\nNaviraí fornece 52.0 toneladas de Familia_Produto_20 para Brasília - DF\nNaviraí fornece 25.0 toneladas de Familia_Produto_1 para Cascavel - CE\nNaviraí fornece 189.0 toneladas de Familia_Produto_6 para Simões Filho - BA\nNaviraí fornece 69.0 toneladas de Familia_Produto_9 para Simões Filho - BA\nNaviraí fornece 42.0 toneladas de Familia_Produto_10 para Simões Filho - BA\nNaviraí fornece 2.0 toneladas de Familia_Produto_11 para Simões Filho - BA\nNaviraí fornece 30.0 toneladas de Familia_Produto_4 para Confresa - MT\nNaviraí fornece 8.0 toneladas de Familia_Produto_17 para Confresa - MT\nBrasília fornece 23.0 toneladas de Familia_Produto_9 para Diamantino - MT\nBrasília fornece 105.0 toneladas de Familia_Produto_3 para Araputanga - MT\nBrasília fornece 67.0 toneladas de Familia_Produto_4 para Araputanga - MT\nBrasília fornece 224.0 toneladas de Familia_Produto_5 para Araputanga - MT\nBrasília fornece 40.0 toneladas de Familia_Produto_6 para Araputanga - MT\nBrasília fornece 95.0 toneladas de Familia_Produto_7 para Araputanga - MT\nBrasília fornece 175.0 toneladas de Familia_Produto_8 para Araputanga - MT\nBrasília fornece 20.0 toneladas de Familia_Produto_9 para Araputanga - MT\nBrasília fornece 22.0 toneladas de Familia_Produto_10 para Araputanga - MT\nBrasília fornece 84.0 toneladas de Familia_Produto_13 para Araputanga - MT\nBrasília fornece 56.0 toneladas de Familia_Produto_16 para Araputanga - MT\nBrasília fornece 4.0 toneladas de Familia_Produto_18 para Araputanga - MT\nBrasília fornece 19.0 toneladas de Familia_Produto_19 para Araputanga - MT\nBrasília fornece 55.0 toneladas de Familia_Produto_20 para Araputanga - MT\nBrasília fornece 31.0 toneladas de Familia_Produto_1 para Anhenguera - SP 1\nBrasília fornece 1.0 toneladas de Familia_Produto_2 para Maceió - AL\nBrasília fornece 157.0 toneladas de Familia_Produto_4 para Maceió - AL\nBrasília fornece 42.0 toneladas de Familia_Produto_8 para Maceió - AL\nBrasília fornece 34.0 toneladas de Familia_Produto_9 para Maceió - AL\nBrasília fornece 7.0 toneladas de Familia_Produto_11 para Maceió - AL\nBrasília fornece 97.0 toneladas de Familia_Produto_12 para Maceió - AL\nBrasília fornece 9.0 toneladas de Familia_Produto_13 para Maceió - AL\nBrasília fornece 30.0 toneladas de Familia_Produto_14 para Maceió - AL\nBrasília fornece 96.0 toneladas de Familia_Produto_15 para Maceió - AL\nBrasília fornece 54.0 toneladas de Familia_Produto_16 para Maceió - AL\nBrasília fornece 33.0 toneladas de Familia_Produto_17 para Maceió - AL\nBrasília fornece 66.0 toneladas de Familia_Produto_19 para Maceió - AL\nBrasília fornece 50.0 toneladas de Familia_Produto_20 para Maceió - AL\nBrasília fornece 255.0 toneladas de Familia_Produto_1 para Cajamar - SP\nBrasília fornece 120.0 toneladas de Familia_Produto_3 para Cajamar - SP\nBrasília fornece 7.0 toneladas de Familia_Produto_5 para Cajamar - SP\nBrasília fornece 35.0 toneladas de Familia_Produto_6 para Cajamar - SP\nBrasília fornece 40.0 toneladas de Familia_Produto_7 para Cajamar - SP\nBrasília fornece 34.0 toneladas de Familia_Produto_8 para Cajamar - SP\nBrasília fornece 112.0 toneladas de Familia_Produto_9 para Cajamar - SP\nBrasília fornece 2.0 toneladas de Familia_Produto_12 para Cajamar - SP\nBrasília fornece 81.0 toneladas de Familia_Produto_13 para Cajamar - SP\nBrasília fornece 137.0 toneladas de Familia_Produto_16 para Cajamar - SP\nBrasília fornece 33.0 toneladas de Familia_Produto_17 para Cajamar - SP\nBrasília fornece 86.0 toneladas de Familia_Produto_19 para Cajamar - SP\nBrasília fornece 110.0 toneladas de Familia_Produto_20 para Cajamar - SP\nManaus fornece 3.0 toneladas de Familia_Produto_8 para Araputanga - MT\nManaus fornece 98.0 toneladas de Familia_Produto_1 para Pimenta Bueno - RO\nManaus fornece 42.0 toneladas de Familia_Produto_8 para Pimenta Bueno - RO\nManaus fornece 79.0 toneladas de Familia_Produto_1 para Aparecida de Goiania \nManaus fornece 53.0 toneladas de Familia_Produto_2 para Aparecida de Goiania \nManaus fornece 73.0 toneladas de Familia_Produto_4 para Aparecida de Goiania \nManaus fornece 74.0 toneladas de Familia_Produto_5 para Aparecida de Goiania \nManaus fornece 46.0 toneladas de Familia_Produto_8 para Aparecida de Goiania \nManaus fornece 93.0 toneladas de Familia_Produto_9 para Aparecida de Goiania \nManaus fornece 117.0 toneladas de Familia_Produto_11 para Aparecida de Goiania \nManaus fornece 33.0 toneladas de Familia_Produto_12 para Aparecida de Goiania \nManaus fornece 15.0 toneladas de Familia_Produto_14 para Aparecida de Goiania \nManaus fornece 45.0 toneladas de Familia_Produto_15 para Aparecida de Goiania \nManaus fornece 39.0 toneladas de Familia_Produto_16 para Aparecida de Goiania \nManaus fornece 91.0 toneladas de Familia_Produto_17 para Aparecida de Goiania \nManaus fornece 195.0 toneladas de Familia_Produto_18 para Aparecida de Goiania \nManaus fornece 128.0 toneladas de Familia_Produto_19 para Aparecida de Goiania \nManaus fornece 113.0 toneladas de Familia_Produto_20 para Aparecida de Goiania \nManaus fornece 63.0 toneladas de Familia_Produto_3 para Simões Filho - BA\nManaus fornece 195.0 toneladas de Familia_Produto_5 para Simões Filho - BA\nManaus fornece 31.0 toneladas de Familia_Produto_6 para Simões Filho - BA\nManaus fornece 289.0 toneladas de Familia_Produto_7 para Simões Filho - BA\nManaus fornece 14.0 toneladas de Familia_Produto_8 para Simões Filho - BA\nManaus fornece 68.0 toneladas de Familia_Produto_10 para Simões Filho - BA\nManaus fornece 36.0 toneladas de Familia_Produto_12 para Simões Filho - BA\nManaus fornece 266.0 toneladas de Familia_Produto_13 para Simões Filho - BA\nManaus fornece 149.0 toneladas de Familia_Produto_14 para Simões Filho - BA\nManaus fornece 192.0 toneladas de Familia_Produto_15 para Simões Filho - BA\nManaus fornece 195.0 toneladas de Familia_Produto_16 para Simões Filho - BA\nManaus fornece 5.0 toneladas de Familia_Produto_17 para Simões Filho - BA\nManaus fornece 98.0 toneladas de Familia_Produto_18 para Simões Filho - BA\nManaus fornece 4.0 toneladas de Familia_Produto_19 para Simões Filho - BA\nManaus fornece 16.0 toneladas de Familia_Produto_20 para Simões Filho - BA\nManaus fornece 149.0 toneladas de Familia_Produto_8 para Anhenguera - SP 2\nManaus fornece 63.0 toneladas de Familia_Produto_16 para Anhenguera - SP 2\nManaus fornece 10.0 toneladas de Familia_Produto_17 para Anhenguera - SP 2\nManaus fornece 166.0 toneladas de Familia_Produto_20 para Anhenguera - SP 2\nJi-Paraná fornece 22.0 toneladas de Familia_Produto_2 para Araputanga - MT\nJi-Paraná fornece 44.0 toneladas de Familia_Produto_6 para Araputanga - MT\nJi-Paraná fornece 54.0 toneladas de Familia_Produto_9 para Araputanga - MT\nJi-Paraná fornece 40.0 toneladas de Familia_Produto_10 para Araputanga - MT\nJi-Paraná fornece 57.0 toneladas de Familia_Produto_11 para Araputanga - MT\nJi-Paraná fornece 13.0 toneladas de Familia_Produto_12 para Araputanga - MT\nJi-Paraná fornece 55.0 toneladas de Familia_Produto_15 para Araputanga - MT\nJi-Paraná fornece 2.0 toneladas de Familia_Produto_16 para Araputanga - MT\nJi-Paraná fornece 29.0 toneladas de Familia_Produto_17 para Araputanga - MT\nJi-Paraná fornece 81.0 toneladas de Familia_Produto_1 para Vilhena - RO\nJi-Paraná fornece 20.0 toneladas de Familia_Produto_1 para Itaitinga - CE\nJi-Paraná fornece 21.0 toneladas de Familia_Produto_1 para Confresa - MT\nJi-Paraná fornece 117.0 toneladas de Familia_Produto_2 para Confresa - MT\nJi-Paraná fornece 3.0 toneladas de Familia_Produto_3 para Confresa - MT\nJi-Paraná fornece 224.0 toneladas de Familia_Produto_4 para Confresa - MT\nJi-Paraná fornece 78.0 toneladas de Familia_Produto_5 para Confresa - MT\nJi-Paraná fornece 57.0 toneladas de Familia_Produto_6 para Confresa - MT\nJi-Paraná fornece 59.0 toneladas de Familia_Produto_7 para Confresa - MT\nJi-Paraná fornece 34.0 toneladas de Familia_Produto_8 para Confresa - MT\nJi-Paraná fornece 5.0 toneladas de Familia_Produto_9 para Confresa - MT\nJi-Paraná fornece 80.0 toneladas de Familia_Produto_10 para Confresa - MT\nJi-Paraná fornece 142.0 toneladas de Familia_Produto_11 para Confresa - MT\nJi-Paraná fornece 49.0 toneladas de Familia_Produto_12 para Confresa - MT\nJi-Paraná fornece 39.0 toneladas de Familia_Produto_13 para Confresa - MT\nJi-Paraná fornece 5.0 toneladas de Familia_Produto_14 para Confresa - MT\nJi-Paraná fornece 45.0 toneladas de Familia_Produto_15 para Confresa - MT\nJi-Paraná fornece 285.0 toneladas de Familia_Produto_16 para Confresa - MT\nJi-Paraná fornece 141.0 toneladas de Familia_Produto_17 para Confresa - MT\nJi-Paraná fornece 91.0 toneladas de Familia_Produto_18 para Confresa - MT\nJi-Paraná fornece 64.0 toneladas de Familia_Produto_19 para Confresa - MT\nJi-Paraná fornece 89.0 toneladas de Familia_Produto_20 para Confresa - MT\nJi-Paraná fornece 14.0 toneladas de Familia_Produto_6 para POontes e Lacerda - MT\nJi-Paraná fornece 206.0 toneladas de Familia_Produto_9 para POontes e Lacerda - MT\nJi-Paraná fornece 155.0 toneladas de Familia_Produto_12 para POontes e Lacerda - MT\nJi-Paraná fornece 60.0 toneladas de Familia_Produto_13 para POontes e Lacerda - MT\nItapetininga - BA fornece 16.0 toneladas de Familia_Produto_1 para Diamantino - MT\nItapetininga - BA fornece 250.0 toneladas de Familia_Produto_2 para Diamantino - MT\nItapetininga - BA fornece 18.0 toneladas de Familia_Produto_3 para Diamantino - MT\nItapetininga - BA fornece 97.0 toneladas de Familia_Produto_4 para Diamantino - MT\nItapetininga - BA fornece 6.0 toneladas de Familia_Produto_5 para Diamantino - MT\nItapetininga - BA fornece 64.0 toneladas de Familia_Produto_6 para Diamantino - MT\nItapetininga - BA fornece 183.0 toneladas de Familia_Produto_7 para Diamantino - MT\nItapetininga - BA fornece 250.0 toneladas de Familia_Produto_9 para Diamantino - MT\nItapetininga - BA fornece 29.0 toneladas de Familia_Produto_10 para Diamantino - MT\nItapetininga - BA fornece 102.0 toneladas de Familia_Produto_11 para Diamantino - MT\nItapetininga - BA fornece 95.0 toneladas de Familia_Produto_12 para Diamantino - MT\nItapetininga - BA fornece 150.0 toneladas de Familia_Produto_13 para Diamantino - MT\nItapetininga - BA fornece 114.0 toneladas de Familia_Produto_14 para Diamantino - MT\nItapetininga - BA fornece 161.0 toneladas de Familia_Produto_15 para Diamantino - MT\nItapetininga - BA fornece 178.0 toneladas de Familia_Produto_16 para Diamantino - MT\nItapetininga - BA fornece 131.0 toneladas de Familia_Produto_17 para Diamantino - MT\nItapetininga - BA fornece 132.0 toneladas de Familia_Produto_18 para Diamantino - MT\nItapetininga - BA fornece 111.0 toneladas de Familia_Produto_19 para Diamantino - MT\nItapetininga - BA fornece 49.0 toneladas de Familia_Produto_20 para Diamantino - MT\nItapetininga - BA fornece 28.0 toneladas de Familia_Produto_1 para São Miguel do Guaporé - RO\nItapetininga - BA fornece 63.0 toneladas de Familia_Produto_3 para São Miguel do Guaporé - RO\nItapetininga - BA fornece 36.0 toneladas de Familia_Produto_4 para São Miguel do Guaporé - RO\nItapetininga - BA fornece 61.0 toneladas de Familia_Produto_5 para São Miguel do Guaporé - RO\nItapetininga - BA fornece 89.0 toneladas de Familia_Produto_6 para São Miguel do Guaporé - RO\nItapetininga - BA fornece 265.0 toneladas de Familia_Produto_8 para São Miguel do Guaporé - RO\nItapetininga - BA fornece 35.0 toneladas de Familia_Produto_12 para São Miguel do Guaporé - RO\nItapetininga - BA fornece 72.0 toneladas de Familia_Produto_13 para São Miguel do Guaporé - RO\nItapetininga - BA fornece 120.0 toneladas de Familia_Produto_16 para São Miguel do Guaporé - RO\nItapetininga - BA fornece 33.0 toneladas de Familia_Produto_1 para Anhenguera - SP 1\nItapetininga - BA fornece 78.0 toneladas de Familia_Produto_3 para Itaitinga - CE\nItapetininga - BA fornece 41.0 toneladas de Familia_Produto_1 para Pedra Preta - MT\nItapetininga - BA fornece 50.0 toneladas de Familia_Produto_3 para Pedra Preta - MT\nItapetininga - BA fornece 98.0 toneladas de Familia_Produto_18 para Pedra Preta - MT\nItapetininga - BA fornece 62.0 toneladas de Familia_Produto_3 para Anhenguera - SP 2\nItapetininga - BA fornece 68.0 toneladas de Familia_Produto_6 para Anhenguera - SP 2\nItapetininga - BA fornece 103.0 toneladas de Familia_Produto_11 para Anhenguera - SP 2\nItapetininga - BA fornece 6.0 toneladas de Familia_Produto_18 para Anhenguera - SP 2\nSão Gonçado dos Campos fornece 61.0 toneladas de Familia_Produto_3 para Alta Floresta - MT\nSão Gonçado dos Campos fornece 78.0 toneladas de Familia_Produto_6 para Alta Floresta - MT\nSão Gonçado dos Campos fornece 23.0 toneladas de Familia_Produto_7 para Alta Floresta - MT\nSão Gonçado dos Campos fornece 20.0 toneladas de Familia_Produto_18 para Alta Floresta - MT\nSão Gonçado dos Campos fornece 19.0 toneladas de Familia_Produto_17 para Diamantino - MT\nSão Gonçado dos Campos fornece 37.0 toneladas de Familia_Produto_20 para Diamantino - MT\nSão Gonçado dos Campos fornece 191.0 toneladas de Familia_Produto_7 para Goiania - GO\nSão Gonçado dos Campos fornece 13.0 toneladas de Familia_Produto_14 para Goiania - GO\nSão Gonçado dos Campos fornece 68.0 toneladas de Familia_Produto_18 para Goiania - GO\nSão Gonçado dos Campos fornece 12.0 toneladas de Familia_Produto_1 para Ponta Porã\nSão Gonçado dos Campos fornece 28.0 toneladas de Familia_Produto_2 para Ponta Porã\nSão Gonçado dos Campos fornece 22.0 toneladas de Familia_Produto_3 para Ponta Porã\nSão Gonçado dos Campos fornece 7.0 toneladas de Familia_Produto_4 para Ponta Porã\nSão Gonçado dos Campos fornece 156.0 toneladas de Familia_Produto_5 para Ponta Porã\nSão Gonçado dos Campos fornece 80.0 toneladas de Familia_Produto_6 para Ponta Porã\nSão Gonçado dos Campos fornece 21.0 toneladas de Familia_Produto_7 para Ponta Porã\nSão Gonçado dos Campos fornece 156.0 toneladas de Familia_Produto_8 para Ponta Porã\nSão Gonçado dos Campos fornece 202.0 toneladas de Familia_Produto_9 para Ponta Porã\nSão Gonçado dos Campos fornece 96.0 toneladas de Familia_Produto_10 para Ponta Porã\nSão Gonçado dos Campos fornece 76.0 toneladas de Familia_Produto_11 para Ponta Porã\nSão Gonçado dos Campos fornece 188.0 toneladas de Familia_Produto_12 para Ponta Porã\nSão Gonçado dos Campos fornece 105.0 toneladas de Familia_Produto_13 para Ponta Porã\nSão Gonçado dos Campos fornece 65.0 toneladas de Familia_Produto_14 para Ponta Porã\nSão Gonçado dos Campos fornece 135.0 toneladas de Familia_Produto_15 para Ponta Porã\nSão Gonçado dos Campos fornece 217.0 toneladas de Familia_Produto_16 para Ponta Porã\nSão Gonçado dos Campos fornece 17.0 toneladas de Familia_Produto_17 para Ponta Porã\nSão Gonçado dos Campos fornece 66.0 toneladas de Familia_Produto_18 para Ponta Porã\nSão Gonçado dos Campos fornece 2.0 toneladas de Familia_Produto_19 para Ponta Porã\nSão Gonçado dos Campos fornece 147.0 toneladas de Familia_Produto_20 para Ponta Porã\nSão Gonçado dos Campos fornece 128.0 toneladas de Familia_Produto_1 para Maceió - AL\nSão Gonçado dos Campos fornece 11.0 toneladas de Familia_Produto_3 para Maceió - AL\nSão Gonçado dos Campos fornece 82.0 toneladas de Familia_Produto_4 para Maceió - AL\nSão Gonçado dos Campos fornece 100.0 toneladas de Familia_Produto_6 para Maceió - AL\nSão Gonçado dos Campos fornece 19.0 toneladas de Familia_Produto_7 para Maceió - AL\nSão Gonçado dos Campos fornece 136.0 toneladas de Familia_Produto_14 para Maceió - AL\nSão Gonçado dos Campos fornece 29.0 toneladas de Familia_Produto_16 para Maceió - AL\nSão Gonçado dos Campos fornece 20.0 toneladas de Familia_Produto_18 para Maceió - AL\nSão Gonçado dos Campos fornece 7.0 toneladas de Familia_Produto_3 para Juara - MT\nSão Gonçado dos Campos fornece 9.0 toneladas de Familia_Produto_18 para Juara - MT\nSão Gonçado dos Campos fornece 84.0 toneladas de Familia_Produto_3 para POontes e Lacerda - MT\nFeira de Santana fornece 102.0 toneladas de Familia_Produto_1 para Porto Velho\nFeira de Santana fornece 8.0 toneladas de Familia_Produto_4 para Porto Velho\nFeira de Santana fornece 29.0 toneladas de Familia_Produto_18 para Porto Velho\nFeira de Santana fornece 44.0 toneladas de Familia_Produto_1 para Ponta Porã\nFeira de Santana fornece 72.0 toneladas de Familia_Produto_4 para Ponta Porã\nFeira de Santana fornece 39.0 toneladas de Familia_Produto_12 para Ponta Porã\nFeira de Santana fornece 66.0 toneladas de Familia_Produto_13 para Ponta Porã\nFeira de Santana fornece 50.0 toneladas de Familia_Produto_20 para Ponta Porã\nFeira de Santana fornece 67.0 toneladas de Familia_Produto_2 para Simões Filho - BA\nFeira de Santana fornece 1.0 toneladas de Familia_Produto_4 para Simões Filho - BA\nFeira de Santana fornece 53.0 toneladas de Familia_Produto_11 para Simões Filho - BA\nFeira de Santana fornece 50.0 toneladas de Familia_Produto_12 para Simões Filho - BA\nFeira de Santana fornece 15.0 toneladas de Familia_Produto_13 para Simões Filho - BA\nFeira de Santana fornece 58.0 toneladas de Familia_Produto_1 para Barra do Garças - MT\nFeira de Santana fornece 63.0 toneladas de Familia_Produto_2 para Barra do Garças - MT\nFeira de Santana fornece 62.0 toneladas de Familia_Produto_3 para Barra do Garças - MT\nFeira de Santana fornece 56.0 toneladas de Familia_Produto_4 para Barra do Garças - MT\nFeira de Santana fornece 64.0 toneladas de Familia_Produto_5 para Barra do Garças - MT\nFeira de Santana fornece 74.0 toneladas de Familia_Produto_6 para Barra do Garças - MT\nFeira de Santana fornece 135.0 toneladas de Familia_Produto_7 para Barra do Garças - MT\nFeira de Santana fornece 171.0 toneladas de Familia_Produto_8 para Barra do Garças - MT\nFeira de Santana fornece 180.0 toneladas de Familia_Produto_9 para Barra do Garças - MT\nFeira de Santana fornece 231.0 toneladas de Familia_Produto_10 para Barra do Garças - MT\nFeira de Santana fornece 126.0 toneladas de Familia_Produto_11 para Barra do Garças - MT\nFeira de Santana fornece 89.0 toneladas de Familia_Produto_12 para Barra do Garças - MT\nFeira de Santana fornece 99.0 toneladas de Familia_Produto_13 para Barra do Garças - MT\nFeira de Santana fornece 56.0 toneladas de Familia_Produto_14 para Barra do Garças - MT\nFeira de Santana fornece 126.0 toneladas de Familia_Produto_15 para Barra do Garças - MT\nFeira de Santana fornece 48.0 toneladas de Familia_Produto_16 para Barra do Garças - MT\nFeira de Santana fornece 205.0 toneladas de Familia_Produto_17 para Barra do Garças - MT\nFeira de Santana fornece 270.0 toneladas de Familia_Produto_18 para Barra do Garças - MT\nFeira de Santana fornece 66.0 toneladas de Familia_Produto_19 para Barra do Garças - MT\nFeira de Santana fornece 106.0 toneladas de Familia_Produto_20 para Barra do Garças - MT\nAraguaína - TO fornece 50.0 toneladas de Familia_Produto_2 para Alta Floresta - MT\nAraguaína - TO fornece 9.0 toneladas de Familia_Produto_4 para Alta Floresta - MT\nAraguaína - TO fornece 36.0 toneladas de Familia_Produto_5 para Alta Floresta - MT\nAraguaína - TO fornece 213.0 toneladas de Familia_Produto_6 para Alta Floresta - MT\nAraguaína - TO fornece 110.0 toneladas de Familia_Produto_8 para Alta Floresta - MT\nAraguaína - TO fornece 30.0 toneladas de Familia_Produto_10 para Alta Floresta - MT\nAraguaína - TO fornece 179.0 toneladas de Familia_Produto_11 para Alta Floresta - MT\nAraguaína - TO fornece 50.0 toneladas de Familia_Produto_12 para Alta Floresta - MT\nAraguaína - TO fornece 116.0 toneladas de Familia_Produto_13 para Alta Floresta - MT\nAraguaína - TO fornece 131.0 toneladas de Familia_Produto_15 para Alta Floresta - MT\nAraguaína - TO fornece 182.0 toneladas de Familia_Produto_16 para Alta Floresta - MT\nAraguaína - TO fornece 28.0 toneladas de Familia_Produto_17 para Alta Floresta - MT\nAraguaína - TO fornece 91.0 toneladas de Familia_Produto_18 para Alta Floresta - MT\nAraguaína - TO fornece 26.0 toneladas de Familia_Produto_19 para Alta Floresta - MT\nAraguaína - TO fornece 13.0 toneladas de Familia_Produto_20 para Alta Floresta - MT\nAraguaína - TO fornece 197.0 toneladas de Familia_Produto_1 para São Miguel do Guaporé - RO\nAraguaína - TO fornece 140.0 toneladas de Familia_Produto_3 para São Miguel do Guaporé - RO\nAraguaína - TO fornece 24.0 toneladas de Familia_Produto_4 para São Miguel do Guaporé - RO\nAraguaína - TO fornece 34.0 toneladas de Familia_Produto_5 para São Miguel do Guaporé - RO\nAraguaína - TO fornece 60.0 toneladas de Familia_Produto_6 para São Miguel do Guaporé - RO\nAraguaína - TO fornece 213.0 toneladas de Familia_Produto_7 para São Miguel do Guaporé - RO\nAraguaína - TO fornece 92.0 toneladas de Familia_Produto_9 para São Miguel do Guaporé - RO\nAraguaína - TO fornece 70.0 toneladas de Familia_Produto_11 para São Miguel do Guaporé - RO\nAraguaína - TO fornece 238.0 toneladas de Familia_Produto_12 para São Miguel do Guaporé - RO\nAraguaína - TO fornece 133.0 toneladas de Familia_Produto_13 para São Miguel do Guaporé - RO\nAraguaína - TO fornece 195.0 toneladas de Familia_Produto_14 para São Miguel do Guaporé - RO\nAraguaína - TO fornece 18.0 toneladas de Familia_Produto_15 para São Miguel do Guaporé - RO\nAraguaína - TO fornece 62.0 toneladas de Familia_Produto_16 para São Miguel do Guaporé - RO\nAraguaína - TO fornece 216.0 toneladas de Familia_Produto_17 para São Miguel do Guaporé - RO\nAraguaína - TO fornece 43.0 toneladas de Familia_Produto_18 para São Miguel do Guaporé - RO\nAraguaína - TO fornece 50.0 toneladas de Familia_Produto_19 para São Miguel do Guaporé - RO\nAraguaína - TO fornece 25.0 toneladas de Familia_Produto_20 para São Miguel do Guaporé - RO\nAraguaína - TO fornece 25.0 toneladas de Familia_Produto_11 para Ponta Porã\nAraguaína - TO fornece 5.0 toneladas de Familia_Produto_19 para Ponta Porã\nAraguaína - TO fornece 6.0 toneladas de Familia_Produto_20 para Ponta Porã\nAraguaína - TO fornece 3.0 toneladas de Familia_Produto_3 para Caucaia - CE\nAraguaína - TO fornece 142.0 toneladas de Familia_Produto_10 para Caucaia - CE\nAraguaína - TO fornece 23.0 toneladas de Familia_Produto_11 para Caucaia - CE\nAraguaína - TO fornece 190.0 toneladas de Familia_Produto_20 para Caucaia - CE\n\n\n"
     ]
    }
   ],
   "source": [
    "for i in fabricas:\n",
    "    for j in centros_distr:\n",
    "        for k in familias_produtos:\n",
    "            if transporte[i,j,k].x != 0:\n",
    "                print(\"{} fornece {} toneladas de {} para {}\".format(i, transporte[i, j,k].x, k , j))\n",
    "print(\"\\n\")"
   ]
  },
  {
   "cell_type": "code",
   "execution_count": 11,
   "metadata": {},
   "outputs": [
    {
     "output_type": "stream",
     "name": "stdout",
     "text": [
      " Familia_Produto_1 foi fornecido um total de 4275.0 toneladas e foi igual a demanda \n\n Familia_Produto_2 foi fornecido um total de 1486.0 toneladas e foi igual a capacidade \n\n Familia_Produto_3 foi fornecido um total de 1880.0 toneladas e foi igual a capacidade \n\n Familia_Produto_4 foi fornecido um total de 1583.0 toneladas e foi igual a capacidade \n\n Familia_Produto_5 foi fornecido um total de 2230.0 toneladas e foi igual a capacidade \n\n Familia_Produto_6 foi fornecido um total de 2188.0 toneladas e foi igual a capacidade \n\n Familia_Produto_7 foi fornecido um total de 2239.0 toneladas e foi igual a capacidade \n\n Familia_Produto_8 foi fornecido um total de 2348.0 toneladas e foi igual a capacidade \n\n Familia_Produto_9 foi fornecido um total de 2460.0 toneladas e foi igual a capacidade \n\n Familia_Produto_10 foi fornecido um total de 2372.0 toneladas e foi igual a capacidade \n\n Familia_Produto_11 foi fornecido um total de 2022.0 toneladas e foi igual a capacidade \n\n Familia_Produto_12 foi fornecido um total de 2392.0 toneladas e foi igual a capacidade \n\n Familia_Produto_13 foi fornecido um total de 2172.0 toneladas e foi igual a capacidade \n\n Familia_Produto_14 foi fornecido um total de 1975.0 toneladas e foi igual a capacidade \n\n Familia_Produto_15 foi fornecido um total de 1784.0 toneladas e foi igual a capacidade \n\n Familia_Produto_16 foi fornecido um total de 2421.0 toneladas e foi igual a capacidade \n\n Familia_Produto_17 foi fornecido um total de 2055.0 toneladas e foi igual a capacidade \n\n Familia_Produto_18 foi fornecido um total de 2576.0 toneladas e foi igual a capacidade \n\n Familia_Produto_19 foi fornecido um total de 1360.0 toneladas e foi igual a capacidade \n\n Familia_Produto_20 foi fornecido um total de 2323.0 toneladas e foi igual a capacidade \n\n"
     ]
    }
   ],
   "source": [
    "aux = 0\n",
    "forncecimento_produtos = dict()\n",
    "for k in familias_produtos:\n",
    "    for i in fabricas:\n",
    "        for j in centros_distr:\n",
    "            aux = aux + transporte[i,j,k].x\n",
    "            forncecimento_produtos[k] = aux\n",
    "    aux = 0\n",
    "\n",
    "\n",
    "for k in familias_produtos:\n",
    "    if forncecimento_produtos[k] == demanda_produto[k]:\n",
    "       print (\" {} foi fornecido um total de {} toneladas e foi igual a demanda \\n\".format(k, forncecimento_produtos[k]))\n",
    "    elif forncecimento_produtos[k] == capacidade_produto[k]:\n",
    "         print (\" {} foi fornecido um total de {} toneladas e foi igual a capacidade \\n\".format(k, forncecimento_produtos[k]))"
   ]
  },
  {
   "cell_type": "code",
   "execution_count": 15,
   "metadata": {},
   "outputs": [
    {
     "output_type": "stream",
     "name": "stdout",
     "text": [
      "O modelo resultou em um custo total de : R$ 11322430.0\n"
     ]
    }
   ],
   "source": [
    "print(\"O modelo resultou em um custo total de : R$ {}\".format(m.ObjVal))"
   ]
  },
  {
   "cell_type": "code",
   "execution_count": null,
   "metadata": {},
   "outputs": [],
   "source": []
  }
 ],
 "metadata": {
  "interpreter": {
   "hash": "11ffc019a02cc0e21e59860b66c88ea81995ce9237607e8ab2c087a287ee4867"
  },
  "kernelspec": {
   "name": "python3",
   "display_name": "Python 3.8.5 64-bit ('base': conda)"
  },
  "language_info": {
   "codemirror_mode": {
    "name": "ipython",
    "version": 3
   },
   "file_extension": ".py",
   "mimetype": "text/x-python",
   "name": "python",
   "nbconvert_exporter": "python",
   "pygments_lexer": "ipython3",
   "version": "3.8.5"
  }
 },
 "nbformat": 4,
 "nbformat_minor": 2
}