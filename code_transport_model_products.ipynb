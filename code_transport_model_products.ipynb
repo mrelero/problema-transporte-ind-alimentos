{
 "cells": [
  {
   "cell_type": "code",
   "execution_count": 2,
   "metadata": {},
   "outputs": [],
   "source": [
    "import gurobipy as gp\n",
    "import csv"
   ]
  },
  {
   "cell_type": "code",
   "execution_count": 3,
   "metadata": {},
   "outputs": [],
   "source": [
    "#inicialização de variáveis\n",
    "fabricas = [\"Fabrica_Jaguapitã-PR\",\n",
    "\"Fabrica_Rolândia-PR\",\n",
    "\"Fabrica_Itapiranga-SC\",\n",
    "\"Fabrica_Seara-SC\",\n",
    "\"Fabrica_Tangara-SC\",\n",
    "\"Fabrica_Dourados-MS\",\n",
    "\"Fabrica_Forquilhinha-SC\",\n",
    "\"Fabrica_Sidrolandia-MS\"]\n",
    "\n",
    "centros_distr = [\"CentroDistribuição_Ponta Porã MS\",\n",
    "\"CentroDistribuição_Alta Floresta - MT\",\n",
    "\"CentroDistribuição_Brasília - DF\",\n",
    "\"CentroDistribuição_Cajamar - SP\",\n",
    "\"CentroDistribuição_Anhenguera - SP 2\",\n",
    "\"CentroDistribuição_Diamantino - MT\",\n",
    "\"CentroDistribuição_Araputanga - MT\",\n",
    "\"CentroDistribuição_Anhenguera - SP 1\",\n",
    "\"CentroDistribuição_Osasco - SP\",\n",
    "\"CentroDistribuição_Confresa - MT\",\n",
    "\"CentroDistribuição_Barra do Garças - MT\",\n",
    "\"CentroDistribuição_Pedra Preta - MT\",\n",
    "\"CentroDistribuição_Pimenta Bueno - RO\",\n",
    "\"CentroDistribuição_Pontes e Lacerda - MT\",\n",
    "\"CentroDistribuição_Cascavel - CE\",\n",
    "\"CentroDistribuição_Porto Velho RO\",\n",
    "\"CentroDistribuição_Aparecida de Goiania GO\",\n",
    "\"CentroDistribuição_Maceió - AL\",\n",
    "\"CentroDistribuição_Caucaia - CE\",\n",
    "\"CentroDistribuição_Itaitinga - CE\",\n",
    "\"CentroDistribuição_Simões Filho - BA\",\n",
    "\"CentroDistribuição_São Miguel do Guaporé - RO\",\n",
    "\"CentroDistribuição_Goiania - GO\",\n",
    "\"CentroDistribuição_Juara - MT\",\n",
    "\"CentroDistribuição_Vilhena - RO\",]\n",
    "\n",
    "familias_produtos = [\"Familia_SUINO SEPARADO\",\n",
    "\"Familia_SUINO COSTELA\",\n",
    "\"Familia_SUINO PALETA\",\n",
    "\"Familia_SUINO BARRIGA\",\n",
    "\"Familia_SUINO PERNIL\",\n",
    "\"Familia_SUINO OSSO\",\n",
    "\"Familia_SUINO FILE\",\n",
    "\"Familia_AVES COXA\",\n",
    "\"Familia_AVES SEPARADO\",\n",
    "\"Familia_SUINO DORSO\",\n",
    "\"Familia_AVES PEITO\",\n",
    "\"Familia_AVES ASA\",\n",
    "\"Familia_AVES FILE\",]\n",
    "\n",
    "\n",
    "#Matriz de Distancias e Custos\n",
    "mat_custos = [[78.82,286.16,154.56,84.98,82.88,201.04,222.88,82.88,81.76,236.18,144.06,148.54,307.02,237.72,432.74,379.96,126,387.52,423.92,428.12,319.9,331.66,128.24,272.86,281.26],\n",
    "[83.02,289.24,153.86,80.78,76.44,204.12,225.96,76.44,77.56,239.26,147.14,151.76,310.1,240.8,432.18,383.04,125.3,383.6,423.22,427.42,315.98,334.74,127.68,275.94,284.34],\n",
    "[108.64,341.32,244.72,151.48,146.16,256.2,278.04,146.16,148.4,323.82,231.7,203.84,362.18,292.74,522.9,434.98,216.16,471.66,514.08,518.28,404.04,386.82,218.54,327.88,336.28],\n",
    "[117.04,348.32,241.78,121.66,119.84,263.2,285.04,119.84,119.7,328.86,237.02,210.84,368.9,299.74,521.5,442.12,215.18,459.76,512.54,516.74,391.16,393.26,219.24,335.02,343.98],\n",
    "[129.22,361.9,232.82,107.52,105.7,276.78,298.62,105.7,104.58,326.48,234.64,224.42,382.76,313.46,510.3,455.7,198.52,445.2,502.18,506.38,377.58,407.4,200.9,348.6,356.86],\n",
    "[16.8,241.08,178.36,141.4,138.88,155.96,177.8,138.88,137.9,235.06,142.94,103.6,261.94,192.64,460.46,334.88,149.52,444.08,451.64,455.7,376.46,286.58,149.38,227.64,236.04],\n",
    "[199.22,417.9,262.08,124.46,124.18,332.78,354.62,124.18,124.04,364.7,272.86,300.72,438.48,369.18,528.78,511.7,244.72,463.96,531.02,535.22,396.06,462.84,248.78,404.6,413.56],\n",
    "[33.6,219.8,153.58,140.56,138.88,134.68,156.52,138.88,138.6,214.48,122.64,82.32,236.88,171.22,440.44,313.6,129.64,423.22,426.58,434.56,355.18,264.74,128.38,206.5,215.46,]]\n",
    "\n",
    "#Custo Coletado\n",
    "# 3.5 o km a cada 25 toneladas 3,5/km 25Ton\n",
    "Custo_Transporte = 3.5\n",
    "\n",
    "#Matriz de Capacidade - Fabricas x Produtos\n",
    "mat_capacidade = [[0,0,0,0,0,0,0,3609.72,1241.7,0,2994.3,285.84,574.2],\n",
    "[0,0,0,0,0,0,0,7293.84,9264.42,0,7128.27,1945.53,988.77],\n",
    "[0,0,0,0,0,0,0,6259.08,4542.27,0,4245.15,1332.9,309.6],\n",
    "[2908.17,2418.18,3810.93,2082.24,4969.32,147.3,65.34,0,0,0,0,0,0],\n",
    "[81.9,0,426.6,0,0,0,0,0,0,197.7,0,0,0],\n",
    "[1668.15,1312.74,1484.61,473.67,1106.07,0,0,0,0,0,0,0,0],\n",
    "[0,0,0,0,0,0,0,4348.71,6758.46,0,5927.13,979.56,678.15],\n",
    "[0,0,0,0,0,0,0,3808.62,3265.65,0,6997.71,1506.69,1231.65]]\n",
    "\n",
    "#Matriz de Demandas - Centros x Produtos\n",
    "mat_demandas = [[675.386, 361.01731, 694.71428, 125.19203, 315.82906, 0, 0, 737.955, 909.2672, 0, 430.605, 337.215, 54.09],\n",
    "[0,0,0,0,0,0,0,0,340.3432,0,0,0,0],\n",
    "[0,0,0,0,0,0,0,1511.68,322.0044,0,0,26.535,0],\n",
    "[136.161,840.50555,1501.65901,659.31874,1565.79441,0,4.986,306.396,328.785,0,0,80.775,0],\n",
    "[27.99,0,185.28291,0,167.78434,0,0,2068.464,1402.0307,0,705.12,447.246,40.185],\n",
    "[0,0,106.23239,0,146.04677,45.99,0,0,0,0,0,0,0],\n",
    "[291.475,218.632,27.98512,0,54.98834,0,0,0,55.98,0,0,0,0],\n",
    "[393.25,128.452,0,0,111.13887,0,0,0,0,0,0,0,0],\n",
    "[156.212,267.386,0,0,0,0,0,0,0,0,0,0,0],\n",
    "[0,73.43656,73.44236,0,0,0,0,1026.42,365.975,0,788.94,81.99,107.4],\n",
    "[0,0,96.42,0,0,0,0,1135.478,795.7425,0,500.115,0,0],\n",
    "[0,0,0,0,0,0,0,2843.113,2683.0477,0,1650.18,1150.524,161.25],\n",
    "[0,0,0,0,0,0,0,0,174.4072,0,0,0,0],\n",
    "[0,0,0,0,0,0,0,0,54.06,0,0,0,0],\n",
    "[0,0,0,0,0,0,0,0,46.8776,0,0,0,0],\n",
    "[77.445,0,0,0,0,0,0,259.404,163.71,0,109.83,134.868,0],\n",
    "[0,0,0,0,0,0,0,736.164,435.8755,0,594.51,384.78,81],\n",
    "[0,0,0,0,0,0,0,0,136.053,0,71.745,0,0,],\n",
    "[0,0,0,0,0,0,0,1096.738,231.975,0,0,286.593,0],\n",
    "[82.98,0,0,0,0,0,0,0,0,132,0,0,0],\n",
    "[0,0,0,0,0,0,0,1023.604,53.916,0,244.986,81,0],\n",
    "[0,0,0,0,0,0,0,4199.598,3343.7483,0,2697.579,1496.379,328.56492],\n",
    "[0,0,0,0,0,0,0,527.979,1029.1825,0,412.65,50.529,0],\n",
    "[0,0,0,0,0,0,0,912.531,77.94,0,665.52,0,0],\n",
    "[0,0,0,0,0,0,0,776.613,830.2235,0,756.81,300.894,50.19]]\n",
    "\n",
    "\n",
    "#Quantidade Total de Fabricas\n",
    "numero_fabricas = len(fabricas)\n",
    "numeros_centros = len (centros_distr)\n",
    "total_familias_produtos = len (familias_produtos)\n",
    "\n"
   ]
  },
  {
   "cell_type": "code",
   "execution_count": 4,
   "metadata": {
    "tags": []
   },
   "outputs": [
    {
     "output_type": "stream",
     "name": "stdout",
     "text": [
      "{('Fabrica_Jaguapitã-PR', 'Familia_SUINO SEPARADO'): 0, ('Fabrica_Jaguapitã-PR', 'Familia_SUINO COSTELA'): 0, ('Fabrica_Jaguapitã-PR', 'Familia_SUINO PALETA'): 0, ('Fabrica_Jaguapitã-PR', 'Familia_SUINO BARRIGA'): 0, ('Fabrica_Jaguapitã-PR', 'Familia_SUINO PERNIL'): 0, ('Fabrica_Jaguapitã-PR', 'Familia_SUINO OSSO'): 0, ('Fabrica_Jaguapitã-PR', 'Familia_SUINO FILE'): 0, ('Fabrica_Jaguapitã-PR', 'Familia_AVES COXA'): 3609.72, ('Fabrica_Jaguapitã-PR', 'Familia_AVES SEPARADO'): 1241.7, ('Fabrica_Jaguapitã-PR', 'Familia_SUINO DORSO'): 0, ('Fabrica_Jaguapitã-PR', 'Familia_AVES PEITO'): 2994.3, ('Fabrica_Jaguapitã-PR', 'Familia_AVES ASA'): 285.84, ('Fabrica_Jaguapitã-PR', 'Familia_AVES FILE'): 574.2, ('Fabrica_Rolândia-PR', 'Familia_SUINO SEPARADO'): 0, ('Fabrica_Rolândia-PR', 'Familia_SUINO COSTELA'): 0, ('Fabrica_Rolândia-PR', 'Familia_SUINO PALETA'): 0, ('Fabrica_Rolândia-PR', 'Familia_SUINO BARRIGA'): 0, ('Fabrica_Rolândia-PR', 'Familia_SUINO PERNIL'): 0, ('Fabrica_Rolândia-PR', 'Familia_SUINO OSSO'): 0, ('Fabrica_Rolândia-PR', 'Familia_SUINO FILE'): 0, ('Fabrica_Rolândia-PR', 'Familia_AVES COXA'): 7293.84, ('Fabrica_Rolândia-PR', 'Familia_AVES SEPARADO'): 9264.42, ('Fabrica_Rolândia-PR', 'Familia_SUINO DORSO'): 0, ('Fabrica_Rolândia-PR', 'Familia_AVES PEITO'): 7128.27, ('Fabrica_Rolândia-PR', 'Familia_AVES ASA'): 1945.53, ('Fabrica_Rolândia-PR', 'Familia_AVES FILE'): 988.77, ('Fabrica_Itapiranga-SC', 'Familia_SUINO SEPARADO'): 0, ('Fabrica_Itapiranga-SC', 'Familia_SUINO COSTELA'): 0, ('Fabrica_Itapiranga-SC', 'Familia_SUINO PALETA'): 0, ('Fabrica_Itapiranga-SC', 'Familia_SUINO BARRIGA'): 0, ('Fabrica_Itapiranga-SC', 'Familia_SUINO PERNIL'): 0, ('Fabrica_Itapiranga-SC', 'Familia_SUINO OSSO'): 0, ('Fabrica_Itapiranga-SC', 'Familia_SUINO FILE'): 0, ('Fabrica_Itapiranga-SC', 'Familia_AVES COXA'): 6259.08, ('Fabrica_Itapiranga-SC', 'Familia_AVES SEPARADO'): 4542.27, ('Fabrica_Itapiranga-SC', 'Familia_SUINO DORSO'): 0, ('Fabrica_Itapiranga-SC', 'Familia_AVES PEITO'): 4245.15, ('Fabrica_Itapiranga-SC', 'Familia_AVES ASA'): 1332.9, ('Fabrica_Itapiranga-SC', 'Familia_AVES FILE'): 309.6, ('Fabrica_Seara-SC', 'Familia_SUINO SEPARADO'): 2908.17, ('Fabrica_Seara-SC', 'Familia_SUINO COSTELA'): 2418.18, ('Fabrica_Seara-SC', 'Familia_SUINO PALETA'): 3810.93, ('Fabrica_Seara-SC', 'Familia_SUINO BARRIGA'): 2082.24, ('Fabrica_Seara-SC', 'Familia_SUINO PERNIL'): 4969.32, ('Fabrica_Seara-SC', 'Familia_SUINO OSSO'): 147.3, ('Fabrica_Seara-SC', 'Familia_SUINO FILE'): 65.34, ('Fabrica_Seara-SC', 'Familia_AVES COXA'): 0, ('Fabrica_Seara-SC', 'Familia_AVES SEPARADO'): 0, ('Fabrica_Seara-SC', 'Familia_SUINO DORSO'): 0, ('Fabrica_Seara-SC', 'Familia_AVES PEITO'): 0, ('Fabrica_Seara-SC', 'Familia_AVES ASA'): 0, ('Fabrica_Seara-SC', 'Familia_AVES FILE'): 0, ('Fabrica_Tangara-SC', 'Familia_SUINO SEPARADO'): 81.9, ('Fabrica_Tangara-SC', 'Familia_SUINO COSTELA'): 0, ('Fabrica_Tangara-SC', 'Familia_SUINO PALETA'): 426.6, ('Fabrica_Tangara-SC', 'Familia_SUINO BARRIGA'): 0, ('Fabrica_Tangara-SC', 'Familia_SUINO PERNIL'): 0, ('Fabrica_Tangara-SC', 'Familia_SUINO OSSO'): 0, ('Fabrica_Tangara-SC', 'Familia_SUINO FILE'): 0, ('Fabrica_Tangara-SC', 'Familia_AVES COXA'): 0, ('Fabrica_Tangara-SC', 'Familia_AVES SEPARADO'): 0, ('Fabrica_Tangara-SC', 'Familia_SUINO DORSO'): 197.7, ('Fabrica_Tangara-SC', 'Familia_AVES PEITO'): 0, ('Fabrica_Tangara-SC', 'Familia_AVES ASA'): 0, ('Fabrica_Tangara-SC', 'Familia_AVES FILE'): 0, ('Fabrica_Dourados-MS', 'Familia_SUINO SEPARADO'): 1668.15, ('Fabrica_Dourados-MS', 'Familia_SUINO COSTELA'): 1312.74, ('Fabrica_Dourados-MS', 'Familia_SUINO PALETA'): 1484.61, ('Fabrica_Dourados-MS', 'Familia_SUINO BARRIGA'): 473.67, ('Fabrica_Dourados-MS', 'Familia_SUINO PERNIL'): 1106.07, ('Fabrica_Dourados-MS', 'Familia_SUINO OSSO'): 0, ('Fabrica_Dourados-MS', 'Familia_SUINO FILE'): 0, ('Fabrica_Dourados-MS', 'Familia_AVES COXA'): 0, ('Fabrica_Dourados-MS', 'Familia_AVES SEPARADO'): 0, ('Fabrica_Dourados-MS', 'Familia_SUINO DORSO'): 0, ('Fabrica_Dourados-MS', 'Familia_AVES PEITO'): 0, ('Fabrica_Dourados-MS', 'Familia_AVES ASA'): 0, ('Fabrica_Dourados-MS', 'Familia_AVES FILE'): 0, ('Fabrica_Forquilhinha-SC', 'Familia_SUINO SEPARADO'): 0, ('Fabrica_Forquilhinha-SC', 'Familia_SUINO COSTELA'): 0, ('Fabrica_Forquilhinha-SC', 'Familia_SUINO PALETA'): 0, ('Fabrica_Forquilhinha-SC', 'Familia_SUINO BARRIGA'): 0, ('Fabrica_Forquilhinha-SC', 'Familia_SUINO PERNIL'): 0, ('Fabrica_Forquilhinha-SC', 'Familia_SUINO OSSO'): 0, ('Fabrica_Forquilhinha-SC', 'Familia_SUINO FILE'): 0, ('Fabrica_Forquilhinha-SC', 'Familia_AVES COXA'): 4348.71, ('Fabrica_Forquilhinha-SC', 'Familia_AVES SEPARADO'): 6758.46, ('Fabrica_Forquilhinha-SC', 'Familia_SUINO DORSO'): 0, ('Fabrica_Forquilhinha-SC', 'Familia_AVES PEITO'): 5927.13, ('Fabrica_Forquilhinha-SC', 'Familia_AVES ASA'): 979.56, ('Fabrica_Forquilhinha-SC', 'Familia_AVES FILE'): 678.15, ('Fabrica_Sidrolandia-MS', 'Familia_SUINO SEPARADO'): 0, ('Fabrica_Sidrolandia-MS', 'Familia_SUINO COSTELA'): 0, ('Fabrica_Sidrolandia-MS', 'Familia_SUINO PALETA'): 0, ('Fabrica_Sidrolandia-MS', 'Familia_SUINO BARRIGA'): 0, ('Fabrica_Sidrolandia-MS', 'Familia_SUINO PERNIL'): 0, ('Fabrica_Sidrolandia-MS', 'Familia_SUINO OSSO'): 0, ('Fabrica_Sidrolandia-MS', 'Familia_SUINO FILE'): 0, ('Fabrica_Sidrolandia-MS', 'Familia_AVES COXA'): 3808.62, ('Fabrica_Sidrolandia-MS', 'Familia_AVES SEPARADO'): 3265.65, ('Fabrica_Sidrolandia-MS', 'Familia_SUINO DORSO'): 0, ('Fabrica_Sidrolandia-MS', 'Familia_AVES PEITO'): 6997.71, ('Fabrica_Sidrolandia-MS', 'Familia_AVES ASA'): 1506.69, ('Fabrica_Sidrolandia-MS', 'Familia_AVES FILE'): 1231.65}\n"
     ]
    }
   ],
   "source": [
    "custos = dict()\n",
    "demandas = dict()\n",
    "capacidade = dict()\n",
    "fornecimento_fabrica_produto = dict()\n",
    "recebimento_centro_produto = dict ()\n",
    "\n",
    "#genérico enquanto não tem a relação correta\n",
    "#familias_produtos = [\"Familia_Produto_{}\".format(i+1) for i in range(total_familias_produtos)]\n",
    "\n",
    "#Dicionario de Custos\n",
    "for i, fab in enumerate (fabricas):\n",
    "    for j, cent in enumerate(centros_distr):\n",
    "        custos[fab, cent] = mat_custos[i][j]\n",
    "\n",
    "#Dicionario de Capacidades\n",
    "for i, fab in enumerate (fabricas):\n",
    "    for j, prod in enumerate(familias_produtos):\n",
    "        capacidade[fab, prod] = mat_capacidade[i][j]\n",
    "\n",
    "#Dicionario de Demandas\n",
    "for i, cent in enumerate (centros_distr):\n",
    "    for j, prod in enumerate(familias_produtos):\n",
    "        demandas[cent, prod] = mat_demandas[i][j]\n",
    "\n",
    "\n",
    "##Monta Listas com Capacidades e Demandas de cada produto\n",
    "capacidade_produto = dict()\n",
    "demanda_produto = dict()\n",
    "aux = 0\n",
    "\n",
    "for k in familias_produtos:\n",
    "    for i in fabricas:\n",
    "        aux = aux + capacidade[i,k]\n",
    "    capacidade_produto[k] = aux\n",
    "    aux = 0\n",
    "aux =0\n",
    "\n",
    "for k in familias_produtos:\n",
    "    for j in centros_distr:\n",
    "        aux = aux + demandas[j,k]\n",
    "    demanda_produto[k] = aux\n",
    "    aux = 0\n",
    "\n",
    "\n",
    "print(capacidade)"
   ]
  },
  {
   "cell_type": "code",
   "execution_count": 5,
   "metadata": {
    "tags": []
   },
   "outputs": [
    {
     "output_type": "stream",
     "name": "stdout",
     "text": [
      "\n",
      "--------------------------------------------\n",
      "Warning: your license will expire in 12 days\n",
      "--------------------------------------------\n",
      "\n",
      "Academic license - for non-commercial use only - expires 2021-07-17\n",
      "Using license file C:\\Users\\Usuario\\gurobi.lic\n",
      "Gurobi Optimizer version 9.1.2 build v9.1.2rc0 (win64)\n",
      "Thread count: 2 physical cores, 4 logical processors, using up to 4 threads\n",
      "Optimize a model with 429 rows, 2600 columns and 5200 nonzeros\n",
      "Model fingerprint: 0xfe8e0143\n",
      "Coefficient statistics:\n",
      "  Matrix range     [1e+00, 1e+00]\n",
      "  Objective range  [2e+01, 5e+02]\n",
      "  Bounds range     [0e+00, 0e+00]\n",
      "  RHS range        [5e+00, 9e+03]\n",
      "Presolve removed 347 rows and 2290 columns\n",
      "Presolve time: 0.05s\n",
      "Presolved: 82 rows, 310 columns, 620 nonzeros\n",
      "\n",
      "Iteration    Objective       Primal Inf.    Dual Inf.      Time\n",
      "       0    9.6278938e+06   2.441319e+03   0.000000e+00      0s\n",
      "      47    1.0831655e+07   0.000000e+00   0.000000e+00      0s\n",
      "\n",
      "Solved in 47 iterations and 0.10 seconds\n",
      "Optimal objective  1.083165483e+07\n"
     ]
    }
   ],
   "source": [
    "\n",
    "\n",
    "## Modelo\n",
    "m = gp.Model()\n",
    "\n",
    "##Variáveis de Transporte\n",
    "transporte = m.addVars(fabricas, centros_distr, familias_produtos)\n",
    "\n",
    "c_capacidade = list()\n",
    "c_demandas = list()\n",
    "for k in familias_produtos:\n",
    "    if capacidade_produto[k] > demanda_produto [k]:\n",
    "        c_capacidade.append(m.addConstrs(gp.quicksum(transporte[i,j,k] for j in centros_distr)<= capacidade[i,k] for i in fabricas))\n",
    "        c_demandas.append(m.addConstrs(gp.quicksum(transporte[i,j,k] for i in fabricas)== demandas[j,k] for j in centros_distr))\n",
    "    else:\n",
    "        c_capacidade.append(m.addConstrs(gp.quicksum(transporte[i,j,k] for j in centros_distr)==capacidade[i,k] for i in fabricas))\n",
    "        c_demandas.append(m.addConstrs(gp.quicksum(transporte[i,j,k] for i in fabricas)<= demandas[j,k] for j in centros_distr))\n",
    "\n",
    "      \n",
    "#c_ofertas = m.addConstrs(gp.quicksum(transporte[i,j,k] for j in centros_distr)<= capacidade[i,k] for i in fabricas for k in familias_produtos)\n",
    "#c_demandas = m.addConstrs(gp.quicksum(transporte[i,j,k] for i in fabricas)== demandas[j,k] for j in centros_distr for k in familias_produtos)\n",
    "\n",
    "m.setObjective(gp.quicksum(transporte[i, j,k]* custos[i, j] for i in fabricas for j in centros_distr for k in familias_produtos), sense = gp.GRB.MINIMIZE)\n",
    "\n",
    "m.optimize()\n"
   ]
  },
  {
   "cell_type": "code",
   "execution_count": 6,
   "metadata": {},
   "outputs": [
    {
     "output_type": "stream",
     "name": "stdout",
     "text": [
      " Familia_SUINO SEPARADO foi fornecido um total de 1840.8990000000001 toneladas e foi igual a demanda \n",
      "\n",
      " Familia_SUINO COSTELA foi fornecido um total de 1889.4294200000002 toneladas e foi igual a demanda \n",
      "\n",
      " Familia_SUINO PALETA foi fornecido um total de 2685.73607 toneladas e foi igual a demanda \n",
      "\n",
      " Familia_SUINO BARRIGA foi fornecido um total de 784.5107700000001 toneladas e foi igual a demanda \n",
      "\n",
      " Familia_SUINO OSSO foi fornecido um total de 45.99 toneladas e foi igual a demanda \n",
      "\n",
      " Familia_SUINO FILE foi fornecido um total de 4.986 toneladas e foi igual a demanda \n",
      "\n",
      " Familia_SUINO DORSO foi fornecido um total de 132.0 toneladas e foi igual a demanda \n",
      "\n",
      " Familia_AVES PEITO foi fornecido um total de 9628.59 toneladas e foi igual a demanda \n",
      "\n",
      " Familia_AVES ASA foi fornecido um total de 4859.328 toneladas e foi igual a demanda \n",
      "\n",
      " Familia_AVES FILE foi fornecido um total de 822.67992 toneladas e foi igual a demanda \n",
      "\n"
     ]
    }
   ],
   "source": [
    "aux = 0\n",
    "forncecimento_produtos = dict()\n",
    "for k in familias_produtos:\n",
    "    for i in fabricas:\n",
    "        for j in centros_distr:\n",
    "            aux = aux + transporte[i,j,k].x\n",
    "            forncecimento_produtos[k] = aux\n",
    "    aux = 0\n",
    "\n",
    "\n",
    "for k in familias_produtos:\n",
    "    if forncecimento_produtos[k] == demanda_produto[k]:\n",
    "       print (\" {} foi fornecido um total de {} toneladas e foi igual a demanda \\n\".format(k, forncecimento_produtos[k]))\n",
    "    elif forncecimento_produtos[k] == capacidade_produto[k]:\n",
    "         print (\" {} foi fornecido um total de {} toneladas e foi igual a capacidade \\n\".format(k, forncecimento_produtos[k]))"
   ]
  },
  {
   "cell_type": "code",
   "execution_count": 7,
   "metadata": {},
   "outputs": [
    {
     "output_type": "stream",
     "name": "stdout",
     "text": [
      "O modelo resultou em um custo total de : R$ 10831654.833377006\n"
     ]
    }
   ],
   "source": [
    "print(\"O modelo resultou em um custo total de : R$ {}\".format(m.ObjVal))"
   ]
  },
  {
   "cell_type": "code",
   "execution_count": 8,
   "metadata": {},
   "outputs": [],
   "source": [
    "indice = 0\n",
    "with open('data.txt', 'w') as f:\n",
    "    f.write(\"Resultado Modelo de Transporte\\n\")\n",
    "    f.write(\"Custo Calculado: R$ {} \\n\".format(m.ObjVal))\n",
    "    f.write(\"Fabrica                                  | Produto                | Quantidade (TON)                  | Centro de DistribuiçãoAnastácio \\n\") \n",
    "    for i in fabricas:\n",
    "        for j in centros_distr:\n",
    "            for k in familias_produtos:\n",
    "                if round(transporte[i,j,k].X)!=0:\n",
    "                    f.write(\"{}                       | {}                     | {}                                | {} \\n\".format(i,k, transporte[i,j,k].X, j))\n",
    "    \n",
    "    f.write(\"-------------------------------------------------------------------\")"
   ]
  },
  {
   "cell_type": "code",
   "execution_count": 19,
   "metadata": {},
   "outputs": [],
   "source": [
    "indice = 0\n",
    "with open('Resultado.csv', 'w') as csv_file:\n",
    "    csv_reader = csv.reader(csv_file, delimiter=',')\n",
    "    line_count = 0\n",
    "    csv_file.write(\"Custo Calculado,  R$ {} \\n\".format(m.ObjVal))\n",
    "    csv_file.write(\"Fabrica, Produto, Quantidade(TON),Centro de Distribuição \\n\") \n",
    "    for i in fabricas:\n",
    "        for j in centros_distr:\n",
    "            for k in familias_produtos:\n",
    "                if round(transporte[i,j,k].X)!=0:\n",
    "                   csv_file.write(\"{},{},{},{} \\n\".format(i,k, transporte[i,j,k].X, j))\n"
   ]
  },
  {
   "cell_type": "code",
   "execution_count": 10,
   "metadata": {
    "tags": []
   },
   "outputs": [
    {
     "output_type": "stream",
     "name": "stdout",
     "text": [
      "Fabrica_Jaguapitã-PR fornece 899.8928999999982 toneladas de Familia_AVES SEPARADO para CentroDistribuição_Ponta Porã MS\nFabrica_Jaguapitã-PR fornece 101.75400000000104 toneladas de Familia_AVES PEITO para CentroDistribuição_Confresa - MT\nFabrica_Jaguapitã-PR fornece 116.22499999999991 toneladas de Familia_AVES COXA para CentroDistribuição_Barra do Garças - MT\nFabrica_Jaguapitã-PR fornece 500.115 toneladas de Familia_AVES PEITO para CentroDistribuição_Barra do Garças - MT\nFabrica_Jaguapitã-PR fornece 2843.113 toneladas de Familia_AVES COXA para CentroDistribuição_Pedra Preta - MT\nFabrica_Jaguapitã-PR fornece 341.8071000000018 toneladas de Familia_AVES SEPARADO para CentroDistribuição_Pedra Preta - MT\nFabrica_Jaguapitã-PR fornece 285.84 toneladas de Familia_AVES ASA para CentroDistribuição_Pedra Preta - MT\nFabrica_Jaguapitã-PR fornece 259.404 toneladas de Familia_AVES COXA para CentroDistribuição_Porto Velho RO\nFabrica_Jaguapitã-PR fornece 390.97800000000007 toneladas de Familia_AVES COXA para CentroDistribuição_São Miguel do Guaporé - RO\nFabrica_Rolândia-PR fornece 340.3432 toneladas de Familia_AVES SEPARADO para CentroDistribuição_Alta Floresta - MT\nFabrica_Rolândia-PR fornece 1511.68 toneladas de Familia_AVES COXA para CentroDistribuição_Brasília - DF\nFabrica_Rolândia-PR fornece 322.0044 toneladas de Familia_AVES SEPARADO para CentroDistribuição_Brasília - DF\nFabrica_Rolândia-PR fornece 26.535 toneladas de Familia_AVES ASA para CentroDistribuição_Brasília - DF\nFabrica_Rolândia-PR fornece 328.785 toneladas de Familia_AVES SEPARADO para CentroDistribuição_Cajamar - SP\nFabrica_Rolândia-PR fornece 1402.0307 toneladas de Familia_AVES SEPARADO para CentroDistribuição_Anhenguera - SP 2\nFabrica_Rolândia-PR fornece 705.12 toneladas de Familia_AVES PEITO para CentroDistribuição_Anhenguera - SP 2\nFabrica_Rolândia-PR fornece 40.185 toneladas de Familia_AVES FILE para CentroDistribuição_Anhenguera - SP 2\nFabrica_Rolândia-PR fornece 55.98 toneladas de Familia_AVES SEPARADO para CentroDistribuição_Araputanga - MT\nFabrica_Rolândia-PR fornece 1026.42 toneladas de Familia_AVES COXA para CentroDistribuição_Confresa - MT\nFabrica_Rolândia-PR fornece 365.975 toneladas de Familia_AVES SEPARADO para CentroDistribuição_Confresa - MT\nFabrica_Rolândia-PR fornece 81.99 toneladas de Familia_AVES ASA para CentroDistribuição_Confresa - MT\nFabrica_Rolândia-PR fornece 1019.2530000000002 toneladas de Familia_AVES COXA para CentroDistribuição_Barra do Garças - MT\nFabrica_Rolândia-PR fornece 795.7425 toneladas de Familia_AVES SEPARADO para CentroDistribuição_Barra do Garças - MT\nFabrica_Rolândia-PR fornece 2341.2405999999983 toneladas de Familia_AVES SEPARADO para CentroDistribuição_Pedra Preta - MT\nFabrica_Rolândia-PR fornece 854.3729999999998 toneladas de Familia_AVES ASA para CentroDistribuição_Pedra Preta - MT\nFabrica_Rolândia-PR fornece 54.06 toneladas de Familia_AVES SEPARADO para CentroDistribuição_Pontes e Lacerda - MT\nFabrica_Rolândia-PR fornece 46.8776 toneladas de Familia_AVES SEPARADO para CentroDistribuição_Cascavel - CE\nFabrica_Rolândia-PR fornece 163.71 toneladas de Familia_AVES SEPARADO para CentroDistribuição_Porto Velho RO\nFabrica_Rolândia-PR fornece 736.164 toneladas de Familia_AVES COXA para CentroDistribuição_Aparecida de Goiania GO\nFabrica_Rolândia-PR fornece 435.8755 toneladas de Familia_AVES SEPARADO para CentroDistribuição_Aparecida de Goiania GO\nFabrica_Rolândia-PR fornece 594.51 toneladas de Familia_AVES PEITO para CentroDistribuição_Aparecida de Goiania GO\nFabrica_Rolândia-PR fornece 384.78 toneladas de Familia_AVES ASA para CentroDistribuição_Aparecida de Goiania GO\nFabrica_Rolândia-PR fornece 81.0 toneladas de Familia_AVES FILE para CentroDistribuição_Aparecida de Goiania GO\nFabrica_Rolândia-PR fornece 136.053 toneladas de Familia_AVES SEPARADO para CentroDistribuição_Maceió - AL\nFabrica_Rolândia-PR fornece 71.745 toneladas de Familia_AVES PEITO para CentroDistribuição_Maceió - AL\nFabrica_Rolândia-PR fornece 1096.738 toneladas de Familia_AVES COXA para CentroDistribuição_Caucaia - CE\nFabrica_Rolândia-PR fornece 231.975 toneladas de Familia_AVES SEPARADO para CentroDistribuição_Caucaia - CE\nFabrica_Rolândia-PR fornece 286.593 toneladas de Familia_AVES ASA para CentroDistribuição_Caucaia - CE\nFabrica_Rolândia-PR fornece 1023.604 toneladas de Familia_AVES COXA para CentroDistribuição_Simões Filho - BA\nFabrica_Rolândia-PR fornece 53.916 toneladas de Familia_AVES SEPARADO para CentroDistribuição_Simões Filho - BA\nFabrica_Rolândia-PR fornece 244.986 toneladas de Familia_AVES PEITO para CentroDistribuição_Simões Filho - BA\nFabrica_Rolândia-PR fornece 81.0 toneladas de Familia_AVES ASA para CentroDistribuição_Simões Filho - BA\nFabrica_Rolândia-PR fornece 252.5055000000002 toneladas de Familia_AVES SEPARADO para CentroDistribuição_São Miguel do Guaporé - RO\nFabrica_Rolândia-PR fornece 527.979 toneladas de Familia_AVES COXA para CentroDistribuição_Goiania - GO\nFabrica_Rolândia-PR fornece 1029.1825 toneladas de Familia_AVES SEPARADO para CentroDistribuição_Goiania - GO\nFabrica_Rolândia-PR fornece 412.65 toneladas de Familia_AVES PEITO para CentroDistribuição_Goiania - GO\nFabrica_Rolândia-PR fornece 50.529 toneladas de Familia_AVES ASA para CentroDistribuição_Goiania - GO\nFabrica_Rolândia-PR fornece 77.94 toneladas de Familia_AVES SEPARADO para CentroDistribuição_Juara - MT\nFabrica_Rolândia-PR fornece 352.00199999999927 toneladas de Familia_AVES COXA para CentroDistribuição_Vilhena - RO\nFabrica_Rolândia-PR fornece 830.2235 toneladas de Familia_AVES SEPARADO para CentroDistribuição_Vilhena - RO\nFabrica_Rolândia-PR fornece 179.73000000000002 toneladas de Familia_AVES ASA para CentroDistribuição_Vilhena - RO\nFabrica_Itapiranga-SC fornece 737.955 toneladas de Familia_AVES COXA para CentroDistribuição_Ponta Porã MS\nFabrica_Itapiranga-SC fornece 9.374300000001767 toneladas de Familia_AVES SEPARADO para CentroDistribuição_Ponta Porã MS\nFabrica_Itapiranga-SC fornece 337.215 toneladas de Familia_AVES ASA para CentroDistribuição_Ponta Porã MS\nFabrica_Itapiranga-SC fornece 134.868 toneladas de Familia_AVES ASA para CentroDistribuição_Porto Velho RO\nFabrica_Itapiranga-SC fornece 912.531 toneladas de Familia_AVES COXA para CentroDistribuição_Juara - MT\nFabrica_Itapiranga-SC fornece 424.6110000000008 toneladas de Familia_AVES COXA para CentroDistribuição_Vilhena - RO\nFabrica_Itapiranga-SC fornece 121.16399999999999 toneladas de Familia_AVES ASA para CentroDistribuição_Vilhena - RO\nFabrica_Seara-SC fornece 136.161 toneladas de Familia_SUINO SEPARADO para CentroDistribuição_Cajamar - SP\nFabrica_Seara-SC fornece 840.50555 toneladas de Familia_SUINO COSTELA para CentroDistribuição_Cajamar - SP\nFabrica_Seara-SC fornece 1260.34192 toneladas de Familia_SUINO PALETA para CentroDistribuição_Cajamar - SP\nFabrica_Seara-SC fornece 659.31874 toneladas de Familia_SUINO BARRIGA para CentroDistribuição_Cajamar - SP\nFabrica_Seara-SC fornece 1565.79441 toneladas de Familia_SUINO PERNIL para CentroDistribuição_Cajamar - SP\nFabrica_Seara-SC fornece 4.986 toneladas de Familia_SUINO FILE para CentroDistribuição_Cajamar - SP\nFabrica_Seara-SC fornece 27.99 toneladas de Familia_SUINO SEPARADO para CentroDistribuição_Anhenguera - SP 2\nFabrica_Seara-SC fornece 167.78434 toneladas de Familia_SUINO PERNIL para CentroDistribuição_Anhenguera - SP 2\nFabrica_Seara-SC fornece 45.99 toneladas de Familia_SUINO OSSO para CentroDistribuição_Diamantino - MT\nFabrica_Seara-SC fornece 393.25 toneladas de Familia_SUINO SEPARADO para CentroDistribuição_Anhenguera - SP 1\nFabrica_Seara-SC fornece 128.452 toneladas de Familia_SUINO COSTELA para CentroDistribuição_Anhenguera - SP 1\nFabrica_Seara-SC fornece 111.13887 toneladas de Familia_SUINO PERNIL para CentroDistribuição_Anhenguera - SP 1\nFabrica_Seara-SC fornece 74.31199999999998 toneladas de Familia_SUINO SEPARADO para CentroDistribuição_Osasco - SP\nFabrica_Seara-SC fornece 267.386 toneladas de Familia_SUINO COSTELA para CentroDistribuição_Osasco - SP\nFabrica_Tangara-SC fornece 241.31709000000004 toneladas de Familia_SUINO PALETA para CentroDistribuição_Cajamar - SP\nFabrica_Tangara-SC fornece 185.28291 toneladas de Familia_SUINO PALETA para CentroDistribuição_Anhenguera - SP 2\nFabrica_Tangara-SC fornece 81.9 toneladas de Familia_SUINO SEPARADO para CentroDistribuição_Osasco - SP\nFabrica_Tangara-SC fornece 132.0 toneladas de Familia_SUINO DORSO para CentroDistribuição_Itaitinga - CE\nFabrica_Dourados-MS fornece 675.386 toneladas de Familia_SUINO SEPARADO para CentroDistribuição_Ponta Porã MS\nFabrica_Dourados-MS fornece 361.01731 toneladas de Familia_SUINO COSTELA para CentroDistribuição_Ponta Porã MS\nFabrica_Dourados-MS fornece 694.71428 toneladas de Familia_SUINO PALETA para CentroDistribuição_Ponta Porã MS\nFabrica_Dourados-MS fornece 125.19203 toneladas de Familia_SUINO BARRIGA para CentroDistribuição_Ponta Porã MS\nFabrica_Dourados-MS fornece 315.82906 toneladas de Familia_SUINO PERNIL para CentroDistribuição_Ponta Porã MS\nFabrica_Dourados-MS fornece 106.23239 toneladas de Familia_SUINO PALETA para CentroDistribuição_Diamantino - MT\nFabrica_Dourados-MS fornece 146.04677 toneladas de Familia_SUINO PERNIL para CentroDistribuição_Diamantino - MT\nFabrica_Dourados-MS fornece 291.475 toneladas de Familia_SUINO SEPARADO para CentroDistribuição_Araputanga - MT\nFabrica_Dourados-MS fornece 218.632 toneladas de Familia_SUINO COSTELA para CentroDistribuição_Araputanga - MT\nFabrica_Dourados-MS fornece 27.98512 toneladas de Familia_SUINO PALETA para CentroDistribuição_Araputanga - MT\nFabrica_Dourados-MS fornece 54.98834 toneladas de Familia_SUINO PERNIL para CentroDistribuição_Araputanga - MT\nFabrica_Dourados-MS fornece 73.43656 toneladas de Familia_SUINO COSTELA para CentroDistribuição_Confresa - MT\nFabrica_Dourados-MS fornece 73.44236 toneladas de Familia_SUINO PALETA para CentroDistribuição_Confresa - MT\nFabrica_Dourados-MS fornece 96.42 toneladas de Familia_SUINO PALETA para CentroDistribuição_Barra do Garças - MT\nFabrica_Dourados-MS fornece 77.445 toneladas de Familia_SUINO SEPARADO para CentroDistribuição_Porto Velho RO\nFabrica_Dourados-MS fornece 82.98 toneladas de Familia_SUINO SEPARADO para CentroDistribuição_Itaitinga - CE\nFabrica_Forquilhinha-SC fornece 306.396 toneladas de Familia_AVES COXA para CentroDistribuição_Cajamar - SP\nFabrica_Forquilhinha-SC fornece 80.775 toneladas de Familia_AVES ASA para CentroDistribuição_Cajamar - SP\nFabrica_Forquilhinha-SC fornece 2068.464 toneladas de Familia_AVES COXA para CentroDistribuição_Anhenguera - SP 2\nFabrica_Forquilhinha-SC fornece 447.246 toneladas de Familia_AVES ASA para CentroDistribuição_Anhenguera - SP 2\nFabrica_Sidrolandia-MS fornece 430.605 toneladas de Familia_AVES PEITO para CentroDistribuição_Ponta Porã MS\nFabrica_Sidrolandia-MS fornece 54.09 toneladas de Familia_AVES FILE para CentroDistribuição_Ponta Porã MS\nFabrica_Sidrolandia-MS fornece 687.185999999999 toneladas de Familia_AVES PEITO para CentroDistribuição_Confresa - MT\nFabrica_Sidrolandia-MS fornece 107.4 toneladas de Familia_AVES FILE para CentroDistribuição_Confresa - MT\nFabrica_Sidrolandia-MS fornece 1650.18 toneladas de Familia_AVES PEITO para CentroDistribuição_Pedra Preta - MT\nFabrica_Sidrolandia-MS fornece 10.31100000000015 toneladas de Familia_AVES ASA para CentroDistribuição_Pedra Preta - MT\nFabrica_Sidrolandia-MS fornece 161.25 toneladas de Familia_AVES FILE para CentroDistribuição_Pedra Preta - MT\nFabrica_Sidrolandia-MS fornece 174.4072 toneladas de Familia_AVES SEPARADO para CentroDistribuição_Pimenta Bueno - RO\nFabrica_Sidrolandia-MS fornece 109.83 toneladas de Familia_AVES PEITO para CentroDistribuição_Porto Velho RO\nFabrica_Sidrolandia-MS fornece 3808.62 toneladas de Familia_AVES COXA para CentroDistribuição_São Miguel do Guaporé - RO\nFabrica_Sidrolandia-MS fornece 3091.2428 toneladas de Familia_AVES SEPARADO para CentroDistribuição_São Miguel do Guaporé - RO\nFabrica_Sidrolandia-MS fornece 2697.579 toneladas de Familia_AVES PEITO para CentroDistribuição_São Miguel do Guaporé - RO\nFabrica_Sidrolandia-MS fornece 1496.379 toneladas de Familia_AVES ASA para CentroDistribuição_São Miguel do Guaporé - RO\nFabrica_Sidrolandia-MS fornece 328.56492 toneladas de Familia_AVES FILE para CentroDistribuição_São Miguel do Guaporé - RO\nFabrica_Sidrolandia-MS fornece 665.52 toneladas de Familia_AVES PEITO para CentroDistribuição_Juara - MT\nFabrica_Sidrolandia-MS fornece 756.81 toneladas de Familia_AVES PEITO para CentroDistribuição_Vilhena - RO\nFabrica_Sidrolandia-MS fornece 50.19 toneladas de Familia_AVES FILE para CentroDistribuição_Vilhena - RO\n\n\n"
     ]
    }
   ],
   "source": [
    "for i in fabricas:\n",
    "    for j in centros_distr:\n",
    "        for k in familias_produtos:\n",
    "            if transporte[i,j,k].x != 0:\n",
    "                print(\"{} fornece {} toneladas de {} para {}\".format(i, transporte[i, j,k].x, k , j))\n",
    "print(\"\\n\")"
   ]
  }
 ],
 "metadata": {
  "interpreter": {
   "hash": "11ffc019a02cc0e21e59860b66c88ea81995ce9237607e8ab2c087a287ee4867"
  },
  "kernelspec": {
   "name": "python3",
   "display_name": "Python 3.8.5 64-bit ('base': conda)"
  },
  "language_info": {
   "codemirror_mode": {
    "name": "ipython",
    "version": 3
   },
   "file_extension": ".py",
   "mimetype": "text/x-python",
   "name": "python",
   "nbconvert_exporter": "python",
   "pygments_lexer": "ipython3",
   "version": "3.8.5"
  }
 },
 "nbformat": 4,
 "nbformat_minor": 2
}