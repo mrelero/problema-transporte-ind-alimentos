{
 "metadata": {
  "language_info": {
   "codemirror_mode": {
    "name": "ipython",
    "version": 3
   },
   "file_extension": ".py",
   "mimetype": "text/x-python",
   "name": "python",
   "nbconvert_exporter": "python",
   "pygments_lexer": "ipython3",
   "version": "3.8.5"
  },
  "orig_nbformat": 4,
  "kernelspec": {
   "name": "python3",
   "display_name": "Python 3.8.5 64-bit ('base': conda)"
  },
  "interpreter": {
   "hash": "11ffc019a02cc0e21e59860b66c88ea81995ce9237607e8ab2c087a287ee4867"
  }
 },
 "nbformat": 4,
 "nbformat_minor": 2,
 "cells": [
  {
   "cell_type": "code",
   "execution_count": 1,
   "metadata": {},
   "outputs": [],
   "source": [
    "import gurobipy as gp"
   ]
  },
  {
   "cell_type": "code",
   "execution_count": 18,
   "metadata": {},
   "outputs": [],
   "source": [
    "#inicialização de variáveis\n",
    "fabricas = [\"Anastácio\", \"Nova Andradina\", \"Dourados\", \"Campo Grande\",  \"Caxias do Sul\", \"Itapetininga - SP\", \"Naviraí\" ,\"Brasília\", \"Manaus\", \"Ji-Paraná\", \"Itapetininga - BA\", \"São Gonçado dos Campos\",\"Feira de Santana\", \"Araguaína - TO\"]\n",
    "centros_distr = [\"Alta Floresta - MT\",\"Diamantino - MT\",\"Araputanga - MT\",\"Vilhena - RO\",\"Pimenta Bueno - RO\",\"Porto Velho\",\"São Miguel do Guaporé - RO\",\"Goiania - GO\",\"Ponta Porã\",\"Anhenguera - SP 1\",\"Osasco - SP\",\"Aparecida de Goiania \",\"Brasília - DF\",\"Maceió - AL\",\"Cascavel - CE\",\"Caucaia - CE\",\"Itaitinga - CE\",\"Simões Filho - BA\",\"Confresa - MT\",\"Barra do Garças - MT\",\"Pedra Preta - MT\",\"Juara - MT\",\"POontes e Lacerda - MT\",\"Anhenguera - SP 2\",\"Cajamar - SP\"]\n",
    "\n",
    "\n",
    "mat_custos = [[240,236,245,518,983,558,617,322,514,843,285,475,346,789,992,240,532,232,928,946,435,271,226,340,582],\n",
    "[491,329,565,486,854,848,219,529,930,750,700,504,725,724,507,779,478,927,633,341,305,845,595,420,206],\n",
    "[895,614,956,383,259,371,927,474,336,306,567,726,635,945,231,487,624,834,470,424,411,647,742,813,525],\n",
    "[657,759,749,512,464,498,516,793,332,309,986,260,625,271,709,435,1000,926,815,458,872,755,731,577,841],\n",
    "[639,590,776,617,242,983,899,766,409,371,884,216,912,337,305,610,204,706,522,699,407,280,302,231,585],\n",
    "[658,230,989,741,483,839,613,258,975,866,745,806,976,729,902,403,468,661,471,387,714,861,918,875,865],\n",
    "[870,498,308,843,431,248,960,321,646,705,580,646,256,354,322,380,638,292,265,555,676,918,975,787,610],\n",
    "[347,238,233,756,641,812,834,796,466,281,266,377,661,212,947,719,977,805,836,725,877,541,766,400,218],\n",
    "[510,830,391,736,373,874,715,507,896,952,608,274,789,846,644,926,624,287,457,771,846,625,569,313,991],\n",
    "[424,641,314,455,917,721,541,491,626,965,364,806,558,453,802,353,350,742,286,996,763,364,319,690,808],\n",
    "[866,213,796,778,464,607,396,780,813,441,646,964,466,514,765,655,425,630,786,667,438,837,795,424,583],\n",
    "[301,208,771,770,920,719,733,212,202,546,558,414,470,210,786,765,698,479,598,562,589,341,324,351,710],\n",
    "[502,805,851,530,854,307,951,739,296,462,668,844,786,710,483,952,717,291,429,207,996,794,733,410,437],\n",
    "[309,592,352,681,737,494,295,786,329,671,730,907,855,770,766,329,733,561,960,596,518,447,475,692,816]]\n",
    "\n",
    "mat_capacidade = [[25,39,219,95,262,203,269,62,276,228,221,218,9,275,4,235,235,273,216,68],\n",
    "[19,188,174,87,246,90,48,271,51,259,135,16,202,151,46,103,110,123,106,133],\n",
    "[237,86,26,34,105,196,71,20,263,209,23,289,10,34,185,81,76,293,123,57],\n",
    "[165,126,113,74,100,106,127,233,72,296,160,233,116,102,186,1,191,176,7,228],\n",
    "[239,274,94,25,298,117,293,21,167,290,11,221,260,266,217,54,252,198,72,278],\n",
    "[235,84,253,86,96,164,143,291,95,143,187,87,218,98,93,279,26,205,175,118],\n",
    "[136,38,49,269,188,265,20,209,265,209,205,159,62,271,49,1,207,68,34,219],\n",
    "[286,1,225,224,231,75,135,251,189,22,7,99,174,30,96,247,66,4,171,215],\n",
    "[177,53,63,73,269,31,289,254,93,68,117,69,266,164,237,297,106,293,132,295],\n",
    "[122,139,3,224,78,115,59,34,265,120,199,217,99,5,100,287,170,91,64,89],\n",
    "[217,250,271,133,67,221,183,265,250,29,205,130,222,114,161,298,131,236,111,49],\n",
    "[140,28,185,89,156,258,254,156,202,96,76,188,105,214,135,246,36,183,2,184],\n",
    "[204,130,62,137,64,74,135,171,180,231,179,178,180,56,126,48,205,299,66,156],\n",
    "[197,50,143,33,70,273,213,110,92,172,297,288,249,195,149,244,244,134,81,234]]\n",
    "\n",
    "mat_demandas = [[224,92,61,177,235,291,154,256,296,30,179,294,293,293,152,216,69,111,26,13],\n",
    "[16,295,18,97,6,64,292,130,295,79,102,131,150,187,239,254,277,132,276,252],\n",
    "[260,109,256,137,224,84,266,178,74,133,104,13,84,121,231,173,103,81,208,105],\n",
    "[223,32,285,240,198,193,10,45,97,28,92,156,50,7,198,145,105,15,195,0],\n",
    "[245,239,145,113,248,147,76,42,158,106,190,162,121,108,9,245,268,85,189,137],\n",
    "[213,239,118,119,190,65,278,278,168,22,165,178,194,147,20,52,171,244,249,167],\n",
    "[244,51,203,106,276,149,288,274,203,198,189,273,249,294,18,182,216,98,50,25],\n",
    "[278,172,224,76,168,20,225,40,271,70,148,2,62,99,67,132,108,273,82,76],\n",
    "[56,175,22,79,280,80,21,193,245,190,101,227,258,65,163,217,17,66,118,203],\n",
    "[229,178,238,298,128,36,220,78,147,58,131,121,231,71,103,238,14,261,21,216],\n",
    "[283,218,61,19,248,253,229,83,28,118,27,20,40,24,50,49,162,191,134,162],\n",
    "[79,142,110,106,77,100,202,46,260,100,175,264,3,29,215,39,91,249,147,113],\n",
    "[135,296,75,128,219,11,111,241,28,145,38,252,126,281,268,174,28,154,105,54],\n",
    "[128,235,11,280,33,100,19,217,34,201,120,99,122,268,128,84,224,20,66,278],\n",
    "[176,129,136,58,77,85,223,190,187,105,236,129,7,78,175,286,255,69,44,23],\n",
    "[172,14,3,133,192,105,27,16,144,202,296,49,176,113,145,32,160,18,8,190],\n",
    "[198,230,172,31,161,193,131,98,240,4,10,11,29,43,201,16,249,15,32,261],\n",
    "[18,136,277,1,195,230,292,14,293,223,265,127,281,149,291,195,5,210,4,16],\n",
    "[21,117,105,254,90,57,79,272,5,80,142,49,39,224,45,285,149,92,239,125],\n",
    "[58,63,255,56,114,193,145,193,217,266,126,89,99,276,254,87,270,270,254,106],\n",
    "[78,203,148,271,226,233,177,224,29,84,140,87,148,193,169,42,295,220,185,117],\n",
    "[21,109,226,135,200,251,144,38,268,109,51,122,139,171,87,204,219,170,288,18],\n",
    "[108,225,89,55,283,225,197,218,206,118,15,207,250,90,224,269,143,29,252,236],\n",
    "[181,82,62,231,10,88,33,149,121,140,159,220,143,181,9,196,263,189,66,248],\n",
    "[255,73,294,41,72,125,40,296,112,23,16,18,239,196,224,240,151,68,192,243]]\n",
    "\n",
    "numero_fabricas = len(fabricas)\n",
    "numeros_centros = len (centros_distr)\n",
    "total_familias_produtos = 20\n",
    "#genérico enquanto não tem a relação correta\n",
    "familias_produtos = [\"Familia_Produto_{}\".format(i+1) for i in range(total_familias_produtos)]\n"
   ]
  },
  {
   "cell_type": "code",
   "execution_count": 24,
   "metadata": {},
   "outputs": [
    {
     "output_type": "stream",
     "name": "stdout",
     "text": [
      "{('Anastácio', 'Familia_Produto_1'): 25, ('Anastácio', 'Familia_Produto_2'): 39, ('Anastácio', 'Familia_Produto_3'): 219, ('Anastácio', 'Familia_Produto_4'): 95, ('Anastácio', 'Familia_Produto_5'): 262, ('Anastácio', 'Familia_Produto_6'): 203, ('Anastácio', 'Familia_Produto_7'): 269, ('Anastácio', 'Familia_Produto_8'): 62, ('Anastácio', 'Familia_Produto_9'): 276, ('Anastácio', 'Familia_Produto_10'): 228, ('Anastácio', 'Familia_Produto_11'): 221, ('Anastácio', 'Familia_Produto_12'): 218, ('Anastácio', 'Familia_Produto_13'): 9, ('Anastácio', 'Familia_Produto_14'): 275, ('Anastácio', 'Familia_Produto_15'): 4, ('Anastácio', 'Familia_Produto_16'): 235, ('Anastácio', 'Familia_Produto_17'): 235, ('Anastácio', 'Familia_Produto_18'): 273, ('Anastácio', 'Familia_Produto_19'): 216, ('Anastácio', 'Familia_Produto_20'): 68, ('Nova Andradina', 'Familia_Produto_1'): 19, ('Nova Andradina', 'Familia_Produto_2'): 188, ('Nova Andradina', 'Familia_Produto_3'): 174, ('Nova Andradina', 'Familia_Produto_4'): 87, ('Nova Andradina', 'Familia_Produto_5'): 246, ('Nova Andradina', 'Familia_Produto_6'): 90, ('Nova Andradina', 'Familia_Produto_7'): 48, ('Nova Andradina', 'Familia_Produto_8'): 271, ('Nova Andradina', 'Familia_Produto_9'): 51, ('Nova Andradina', 'Familia_Produto_10'): 259, ('Nova Andradina', 'Familia_Produto_11'): 135, ('Nova Andradina', 'Familia_Produto_12'): 16, ('Nova Andradina', 'Familia_Produto_13'): 202, ('Nova Andradina', 'Familia_Produto_14'): 151, ('Nova Andradina', 'Familia_Produto_15'): 46, ('Nova Andradina', 'Familia_Produto_16'): 103, ('Nova Andradina', 'Familia_Produto_17'): 110, ('Nova Andradina', 'Familia_Produto_18'): 123, ('Nova Andradina', 'Familia_Produto_19'): 106, ('Nova Andradina', 'Familia_Produto_20'): 133, ('Dourados', 'Familia_Produto_1'): 237, ('Dourados', 'Familia_Produto_2'): 86, ('Dourados', 'Familia_Produto_3'): 26, ('Dourados', 'Familia_Produto_4'): 34, ('Dourados', 'Familia_Produto_5'): 105, ('Dourados', 'Familia_Produto_6'): 196, ('Dourados', 'Familia_Produto_7'): 71, ('Dourados', 'Familia_Produto_8'): 20, ('Dourados', 'Familia_Produto_9'): 263, ('Dourados', 'Familia_Produto_10'): 209, ('Dourados', 'Familia_Produto_11'): 23, ('Dourados', 'Familia_Produto_12'): 289, ('Dourados', 'Familia_Produto_13'): 10, ('Dourados', 'Familia_Produto_14'): 34, ('Dourados', 'Familia_Produto_15'): 185, ('Dourados', 'Familia_Produto_16'): 81, ('Dourados', 'Familia_Produto_17'): 76, ('Dourados', 'Familia_Produto_18'): 293, ('Dourados', 'Familia_Produto_19'): 123, ('Dourados', 'Familia_Produto_20'): 57, ('Campo Grande', 'Familia_Produto_1'): 165, ('Campo Grande', 'Familia_Produto_2'): 126, ('Campo Grande', 'Familia_Produto_3'): 113, ('Campo Grande', 'Familia_Produto_4'): 74, ('Campo Grande', 'Familia_Produto_5'): 100, ('Campo Grande', 'Familia_Produto_6'): 106, ('Campo Grande', 'Familia_Produto_7'): 127, ('Campo Grande', 'Familia_Produto_8'): 233, ('Campo Grande', 'Familia_Produto_9'): 72, ('Campo Grande', 'Familia_Produto_10'): 296, ('Campo Grande', 'Familia_Produto_11'): 160, ('Campo Grande', 'Familia_Produto_12'): 233, ('Campo Grande', 'Familia_Produto_13'): 116, ('Campo Grande', 'Familia_Produto_14'): 102, ('Campo Grande', 'Familia_Produto_15'): 186, ('Campo Grande', 'Familia_Produto_16'): 1, ('Campo Grande', 'Familia_Produto_17'): 191, ('Campo Grande', 'Familia_Produto_18'): 176, ('Campo Grande', 'Familia_Produto_19'): 7, ('Campo Grande', 'Familia_Produto_20'): 228, ('Caxias do Sul', 'Familia_Produto_1'): 239, ('Caxias do Sul', 'Familia_Produto_2'): 274, ('Caxias do Sul', 'Familia_Produto_3'): 94, ('Caxias do Sul', 'Familia_Produto_4'): 25, ('Caxias do Sul', 'Familia_Produto_5'): 298, ('Caxias do Sul', 'Familia_Produto_6'): 117, ('Caxias do Sul', 'Familia_Produto_7'): 293, ('Caxias do Sul', 'Familia_Produto_8'): 21, ('Caxias do Sul', 'Familia_Produto_9'): 167, ('Caxias do Sul', 'Familia_Produto_10'): 290, ('Caxias do Sul', 'Familia_Produto_11'): 11, ('Caxias do Sul', 'Familia_Produto_12'): 221, ('Caxias do Sul', 'Familia_Produto_13'): 260, ('Caxias do Sul', 'Familia_Produto_14'): 266, ('Caxias do Sul', 'Familia_Produto_15'): 217, ('Caxias do Sul', 'Familia_Produto_16'): 54, ('Caxias do Sul', 'Familia_Produto_17'): 252, ('Caxias do Sul', 'Familia_Produto_18'): 198, ('Caxias do Sul', 'Familia_Produto_19'): 72, ('Caxias do Sul', 'Familia_Produto_20'): 278, ('Itapetininga - SP', 'Familia_Produto_1'): 235, ('Itapetininga - SP', 'Familia_Produto_2'): 84, ('Itapetininga - SP', 'Familia_Produto_3'): 253, ('Itapetininga - SP', 'Familia_Produto_4'): 86, ('Itapetininga - SP', 'Familia_Produto_5'): 96, ('Itapetininga - SP', 'Familia_Produto_6'): 164, ('Itapetininga - SP', 'Familia_Produto_7'): 143, ('Itapetininga - SP', 'Familia_Produto_8'): 291, ('Itapetininga - SP', 'Familia_Produto_9'): 95, ('Itapetininga - SP', 'Familia_Produto_10'): 143, ('Itapetininga - SP', 'Familia_Produto_11'): 187, ('Itapetininga - SP', 'Familia_Produto_12'): 87, ('Itapetininga - SP', 'Familia_Produto_13'): 218, ('Itapetininga - SP', 'Familia_Produto_14'): 98, ('Itapetininga - SP', 'Familia_Produto_15'): 93, ('Itapetininga - SP', 'Familia_Produto_16'): 279, ('Itapetininga - SP', 'Familia_Produto_17'): 26, ('Itapetininga - SP', 'Familia_Produto_18'): 205, ('Itapetininga - SP', 'Familia_Produto_19'): 175, ('Itapetininga - SP', 'Familia_Produto_20'): 118, ('Naviraí', 'Familia_Produto_1'): 136, ('Naviraí', 'Familia_Produto_2'): 38, ('Naviraí', 'Familia_Produto_3'): 49, ('Naviraí', 'Familia_Produto_4'): 269, ('Naviraí', 'Familia_Produto_5'): 188, ('Naviraí', 'Familia_Produto_6'): 265, ('Naviraí', 'Familia_Produto_7'): 20, ('Naviraí', 'Familia_Produto_8'): 209, ('Naviraí', 'Familia_Produto_9'): 265, ('Naviraí', 'Familia_Produto_10'): 209, ('Naviraí', 'Familia_Produto_11'): 205, ('Naviraí', 'Familia_Produto_12'): 159, ('Naviraí', 'Familia_Produto_13'): 62, ('Naviraí', 'Familia_Produto_14'): 271, ('Naviraí', 'Familia_Produto_15'): 49, ('Naviraí', 'Familia_Produto_16'): 1, ('Naviraí', 'Familia_Produto_17'): 207, ('Naviraí', 'Familia_Produto_18'): 68, ('Naviraí', 'Familia_Produto_19'): 34, ('Naviraí', 'Familia_Produto_20'): 219, ('Brasília', 'Familia_Produto_1'): 286, ('Brasília', 'Familia_Produto_2'): 1, ('Brasília', 'Familia_Produto_3'): 225, ('Brasília', 'Familia_Produto_4'): 224, ('Brasília', 'Familia_Produto_5'): 231, ('Brasília', 'Familia_Produto_6'): 75, ('Brasília', 'Familia_Produto_7'): 135, ('Brasília', 'Familia_Produto_8'): 251, ('Brasília', 'Familia_Produto_9'): 189, ('Brasília', 'Familia_Produto_10'): 22, ('Brasília', 'Familia_Produto_11'): 7, ('Brasília', 'Familia_Produto_12'): 99, ('Brasília', 'Familia_Produto_13'): 174, ('Brasília', 'Familia_Produto_14'): 30, ('Brasília', 'Familia_Produto_15'): 96, ('Brasília', 'Familia_Produto_16'): 247, ('Brasília', 'Familia_Produto_17'): 66, ('Brasília', 'Familia_Produto_18'): 4, ('Brasília', 'Familia_Produto_19'): 171, ('Brasília', 'Familia_Produto_20'): 215, ('Manaus', 'Familia_Produto_1'): 177, ('Manaus', 'Familia_Produto_2'): 53, ('Manaus', 'Familia_Produto_3'): 63, ('Manaus', 'Familia_Produto_4'): 73, ('Manaus', 'Familia_Produto_5'): 269, ('Manaus', 'Familia_Produto_6'): 31, ('Manaus', 'Familia_Produto_7'): 289, ('Manaus', 'Familia_Produto_8'): 254, ('Manaus', 'Familia_Produto_9'): 93, ('Manaus', 'Familia_Produto_10'): 68, ('Manaus', 'Familia_Produto_11'): 117, ('Manaus', 'Familia_Produto_12'): 69, ('Manaus', 'Familia_Produto_13'): 266, ('Manaus', 'Familia_Produto_14'): 164, ('Manaus', 'Familia_Produto_15'): 237, ('Manaus', 'Familia_Produto_16'): 297, ('Manaus', 'Familia_Produto_17'): 106, ('Manaus', 'Familia_Produto_18'): 293, ('Manaus', 'Familia_Produto_19'): 132, ('Manaus', 'Familia_Produto_20'): 295, ('Ji-Paraná', 'Familia_Produto_1'): 122, ('Ji-Paraná', 'Familia_Produto_2'): 139, ('Ji-Paraná', 'Familia_Produto_3'): 3, ('Ji-Paraná', 'Familia_Produto_4'): 224, ('Ji-Paraná', 'Familia_Produto_5'): 78, ('Ji-Paraná', 'Familia_Produto_6'): 115, ('Ji-Paraná', 'Familia_Produto_7'): 59, ('Ji-Paraná', 'Familia_Produto_8'): 34, ('Ji-Paraná', 'Familia_Produto_9'): 265, ('Ji-Paraná', 'Familia_Produto_10'): 120, ('Ji-Paraná', 'Familia_Produto_11'): 199, ('Ji-Paraná', 'Familia_Produto_12'): 217, ('Ji-Paraná', 'Familia_Produto_13'): 99, ('Ji-Paraná', 'Familia_Produto_14'): 5, ('Ji-Paraná', 'Familia_Produto_15'): 100, ('Ji-Paraná', 'Familia_Produto_16'): 287, ('Ji-Paraná', 'Familia_Produto_17'): 170, ('Ji-Paraná', 'Familia_Produto_18'): 91, ('Ji-Paraná', 'Familia_Produto_19'): 64, ('Ji-Paraná', 'Familia_Produto_20'): 89, ('Itapetininga - BA', 'Familia_Produto_1'): 217, ('Itapetininga - BA', 'Familia_Produto_2'): 250, ('Itapetininga - BA', 'Familia_Produto_3'): 271, ('Itapetininga - BA', 'Familia_Produto_4'): 133, ('Itapetininga - BA', 'Familia_Produto_5'): 67, ('Itapetininga - BA', 'Familia_Produto_6'): 221, ('Itapetininga - BA', 'Familia_Produto_7'): 183, ('Itapetininga - BA', 'Familia_Produto_8'): 265, ('Itapetininga - BA', 'Familia_Produto_9'): 250, ('Itapetininga - BA', 'Familia_Produto_10'): 29, ('Itapetininga - BA', 'Familia_Produto_11'): 205, ('Itapetininga - BA', 'Familia_Produto_12'): 130, ('Itapetininga - BA', 'Familia_Produto_13'): 222, ('Itapetininga - BA', 'Familia_Produto_14'): 114, ('Itapetininga - BA', 'Familia_Produto_15'): 161, ('Itapetininga - BA', 'Familia_Produto_16'): 298, ('Itapetininga - BA', 'Familia_Produto_17'): 131, ('Itapetininga - BA', 'Familia_Produto_18'): 236, ('Itapetininga - BA', 'Familia_Produto_19'): 111, ('Itapetininga - BA', 'Familia_Produto_20'): 49, ('São Gonçado dos Campos', 'Familia_Produto_1'): 140, ('São Gonçado dos Campos', 'Familia_Produto_2'): 28, ('São Gonçado dos Campos', 'Familia_Produto_3'): 185, ('São Gonçado dos Campos', 'Familia_Produto_4'): 89, ('São Gonçado dos Campos', 'Familia_Produto_5'): 156, ('São Gonçado dos Campos', 'Familia_Produto_6'): 258, ('São Gonçado dos Campos', 'Familia_Produto_7'): 254, ('São Gonçado dos Campos', 'Familia_Produto_8'): 156, ('São Gonçado dos Campos', 'Familia_Produto_9'): 202, ('São Gonçado dos Campos', 'Familia_Produto_10'): 96, ('São Gonçado dos Campos', 'Familia_Produto_11'): 76, ('São Gonçado dos Campos', 'Familia_Produto_12'): 188, ('São Gonçado dos Campos', 'Familia_Produto_13'): 105, ('São Gonçado dos Campos', 'Familia_Produto_14'): 214, ('São Gonçado dos Campos', 'Familia_Produto_15'): 135, ('São Gonçado dos Campos', 'Familia_Produto_16'): 246, ('São Gonçado dos Campos', 'Familia_Produto_17'): 36, ('São Gonçado dos Campos', 'Familia_Produto_18'): 183, ('São Gonçado dos Campos', 'Familia_Produto_19'): 2, ('São Gonçado dos Campos', 'Familia_Produto_20'): 184, ('Feira de Santana', 'Familia_Produto_1'): 204, ('Feira de Santana', 'Familia_Produto_2'): 130, ('Feira de Santana', 'Familia_Produto_3'): 62, ('Feira de Santana', 'Familia_Produto_4'): 137, ('Feira de Santana', 'Familia_Produto_5'): 64, ('Feira de Santana', 'Familia_Produto_6'): 74, ('Feira de Santana', 'Familia_Produto_7'): 135, ('Feira de Santana', 'Familia_Produto_8'): 171, ('Feira de Santana', 'Familia_Produto_9'): 180, ('Feira de Santana', 'Familia_Produto_10'): 231, ('Feira de Santana', 'Familia_Produto_11'): 179, ('Feira de Santana', 'Familia_Produto_12'): 178, ('Feira de Santana', 'Familia_Produto_13'): 180, ('Feira de Santana', 'Familia_Produto_14'): 56, ('Feira de Santana', 'Familia_Produto_15'): 126, ('Feira de Santana', 'Familia_Produto_16'): 48, ('Feira de Santana', 'Familia_Produto_17'): 205, ('Feira de Santana', 'Familia_Produto_18'): 299, ('Feira de Santana', 'Familia_Produto_19'): 66, ('Feira de Santana', 'Familia_Produto_20'): 156, ('Araguaína - TO', 'Familia_Produto_1'): 197, ('Araguaína - TO', 'Familia_Produto_2'): 50, ('Araguaína - TO', 'Familia_Produto_3'): 143, ('Araguaína - TO', 'Familia_Produto_4'): 33, ('Araguaína - TO', 'Familia_Produto_5'): 70, ('Araguaína - TO', 'Familia_Produto_6'): 273, ('Araguaína - TO', 'Familia_Produto_7'): 213, ('Araguaína - TO', 'Familia_Produto_8'): 110, ('Araguaína - TO', 'Familia_Produto_9'): 92, ('Araguaína - TO', 'Familia_Produto_10'): 172, ('Araguaína - TO', 'Familia_Produto_11'): 297, ('Araguaína - TO', 'Familia_Produto_12'): 288, ('Araguaína - TO', 'Familia_Produto_13'): 249, ('Araguaína - TO', 'Familia_Produto_14'): 195, ('Araguaína - TO', 'Familia_Produto_15'): 149, ('Araguaína - TO', 'Familia_Produto_16'): 244, ('Araguaína - TO', 'Familia_Produto_17'): 244, ('Araguaína - TO', 'Familia_Produto_18'): 134, ('Araguaína - TO', 'Familia_Produto_19'): 81, ('Araguaína - TO', 'Familia_Produto_20'): 234}\n{('Araguaína - TO', 'Familia_Produto_1'): 255, ('Araguaína - TO', 'Familia_Produto_2'): 73, ('Araguaína - TO', 'Familia_Produto_3'): 294, ('Araguaína - TO', 'Familia_Produto_4'): 41, ('Araguaína - TO', 'Familia_Produto_5'): 72, ('Araguaína - TO', 'Familia_Produto_6'): 125, ('Araguaína - TO', 'Familia_Produto_7'): 40, ('Araguaína - TO', 'Familia_Produto_8'): 296, ('Araguaína - TO', 'Familia_Produto_9'): 112, ('Araguaína - TO', 'Familia_Produto_10'): 23, ('Araguaína - TO', 'Familia_Produto_11'): 16, ('Araguaína - TO', 'Familia_Produto_12'): 18, ('Araguaína - TO', 'Familia_Produto_13'): 239, ('Araguaína - TO', 'Familia_Produto_14'): 196, ('Araguaína - TO', 'Familia_Produto_15'): 224, ('Araguaína - TO', 'Familia_Produto_16'): 240, ('Araguaína - TO', 'Familia_Produto_17'): 151, ('Araguaína - TO', 'Familia_Produto_18'): 68, ('Araguaína - TO', 'Familia_Produto_19'): 192, ('Araguaína - TO', 'Familia_Produto_20'): 243}\n"
     ]
    }
   ],
   "source": [
    "custos = dict()\n",
    "demandas = dict()\n",
    "capacidade = dict()\n",
    "\n",
    "for i, fab in enumerate (fabricas):\n",
    "    for j, cent in enumerate(centros_distr):\n",
    "        custos[fab, cent] = mat_custos[i][j]\n",
    "\n",
    "for i, fab in enumerate (fabricas):\n",
    "    for j, prod in enumerate(familias_produtos):\n",
    "        capacidade[fab, prod] = mat_capacidade[i][j]\n",
    "\n",
    "for i, cent in enumerate (centros_distr):\n",
    "    for j, prod in enumerate(familias_produtos):\n",
    "        demandas[fab, prod] = mat_demandas[i][j]\n",
    "\n",
    "print(capacidade)\n",
    "print (demandas)\n"
   ]
  },
  {
   "cell_type": "code",
   "execution_count": 21,
   "metadata": {},
   "outputs": [
    {
     "output_type": "stream",
     "name": "stdout",
     "text": [
      "248\n"
     ]
    }
   ],
   "source": []
  },
  {
   "cell_type": "code",
   "execution_count": null,
   "metadata": {},
   "outputs": [],
   "source": []
  }
 ]
}